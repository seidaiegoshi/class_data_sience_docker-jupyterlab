{
 "cells": [
  {
   "cell_type": "markdown",
   "id": "a43dc221-c0b2-4c3e-bec1-43b6e0d50c6f",
   "metadata": {},
   "source": [
    "dockerでjupyterlab環境を構築\n",
    "\n",
    "https://zenn.dev/en2enzo2/articles/78d57ec01ed0c5\n",
    "↑の記事通りにやって、\n",
    "localhost:8888\n",
    "で接続\n",
    "トークンを入力する画面が現れるので、\n",
    "トークンはターミナルでdocker-compose upしたときに?token=移行にかかれているのでそれを入れてログイン\n",
    "\n",
    "以下テストして動いたのでOK"
   ]
  },
  {
   "cell_type": "code",
   "execution_count": 7,
   "id": "abd9dc23-9e0d-439f-a5c5-539c18756ce9",
   "metadata": {},
   "outputs": [
    {
     "name": "stdout",
     "output_type": "stream",
     "text": [
      "5\n"
     ]
    }
   ],
   "source": [
    "a=3\n",
    "b=2\n",
    "print(a+b)"
   ]
  },
  {
   "cell_type": "code",
   "execution_count": null,
   "id": "fd6abbc5-c5c6-412f-ad11-06d9a97287dd",
   "metadata": {},
   "outputs": [],
   "source": [
    "デフォルトモジュールが入っていないので、モジュールを入れる必要がある。\n",
    "\n",
    "docker exec -it コンテナ名 /bin/bash\n",
    "\n",
    "でコンテナの中に入って、\n",
    "pip install hogefuga\n",
    "でモジュールをインストールしていく。\n",
    "\n",
    "↓を実行してエラーがでないようにインポートしていくぅ\n"
   ]
  },
  {
   "cell_type": "code",
   "execution_count": 10,
   "id": "eea72276-407e-4c56-9be8-456dac600e78",
   "metadata": {},
   "outputs": [],
   "source": [
    "import pandas as pd\n",
    "import numpy as np\n",
    "import matplotlib.pyplot as plt\n",
    "import seaborn as sns\n",
    "import plotly.express as px\n",
    "from sklearn.datasets import load_iris\n",
    "iris = load_iris()"
   ]
  },
  {
   "cell_type": "markdown",
   "id": "7145447b-4bd8-4695-9bc2-6efc6c2ecc29",
   "metadata": {},
   "source": [
    "インポートできるようになった\n"
   ]
  },
  {
   "cell_type": "code",
   "execution_count": null,
   "id": "ae67bfe3-4262-40d1-9a09-8256bebe391b",
   "metadata": {},
   "outputs": [],
   "source": []
  },
  {
   "cell_type": "code",
   "execution_count": null,
   "id": "a4f2e032-5f86-4f9f-86be-6d5d7488a255",
   "metadata": {},
   "outputs": [],
   "source": []
  }
 ],
 "metadata": {
  "kernelspec": {
   "display_name": "Python 3 (ipykernel)",
   "language": "python",
   "name": "python3"
  },
  "language_info": {
   "codemirror_mode": {
    "name": "ipython",
    "version": 3
   },
   "file_extension": ".py",
   "mimetype": "text/x-python",
   "name": "python",
   "nbconvert_exporter": "python",
   "pygments_lexer": "ipython3",
   "version": "3.11.1"
  }
 },
 "nbformat": 4,
 "nbformat_minor": 5
}
