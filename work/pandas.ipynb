{
 "cells": [
  {
   "cell_type": "markdown",
   "id": "5b379ef9-a0b8-4d95-a828-f03d2e1aae53",
   "metadata": {},
   "source": [
    "講義資料はgoogleドライブに保存してる"
   ]
  },
  {
   "cell_type": "code",
   "execution_count": null,
   "id": "58971ddf-2058-497c-8115-8560057a30fc",
   "metadata": {},
   "outputs": [
    {
     "ename": "",
     "evalue": "",
     "output_type": "error",
     "traceback": [
      "\u001b[1;31mJupyter を起動できません。Jupyter の検索中にエラーが発生しました: 実行中のセルには notebook および jupyter パッケージが必要です。\n",
      "\u001b[1;31m次のコマンドを実行して、'jupyter および notebook' を Python 環境にインストールします。\n",
      "\u001b[1;31mコマンド: 'python -m pip install jupyter notebook -U\n",
      "\u001b[1;31mor\n",
      "\u001b[1;31mconda install jupyter notebook -U'\n",
      "\u001b[1;31m詳細については<a href='https://aka.ms/installJupyterForVSCode'>こちら</a>をクリックしてください。"
     ]
    }
   ],
   "source": [
    "import pandas as pd"
   ]
  },
  {
   "cell_type": "markdown",
   "id": "a468b07c-aa2b-4cc4-9d01-a3e936b14f32",
   "metadata": {},
   "source": [
    "# pandasの基本"
   ]
  },
  {
   "cell_type": "code",
   "execution_count": null,
   "id": "de466299-a730-4d58-99f5-1e19380b142b",
   "metadata": {},
   "outputs": [
    {
     "ename": "",
     "evalue": "",
     "output_type": "error",
     "traceback": [
      "\u001b[1;31mJupyter を起動できません。Jupyter の検索中にエラーが発生しました: 実行中のセルには notebook および jupyter パッケージが必要です。\n",
      "\u001b[1;31m次のコマンドを実行して、'jupyter および notebook' を Python 環境にインストールします。\n",
      "\u001b[1;31mコマンド: 'python -m pip install jupyter notebook -U\n",
      "\u001b[1;31mor\n",
      "\u001b[1;31mconda install jupyter notebook -U'\n",
      "\u001b[1;31m詳細については<a href='https://aka.ms/installJupyterForVSCode'>こちら</a>をクリックしてください。"
     ]
    }
   ],
   "source": [
    "#data frame読み込み\n",
    "df = pd.read_csv(\"data/titanic_train.csv\", engine='python')"
   ]
  },
  {
   "cell_type": "code",
   "execution_count": null,
   "id": "0fd5be1d-7dc5-405f-8346-1b501b10a144",
   "metadata": {},
   "outputs": [
    {
     "ename": "",
     "evalue": "",
     "output_type": "error",
     "traceback": [
      "\u001b[1;31mJupyter を起動できません。Jupyter の検索中にエラーが発生しました: 実行中のセルには notebook および jupyter パッケージが必要です。\n",
      "\u001b[1;31m次のコマンドを実行して、'jupyter および notebook' を Python 環境にインストールします。\n",
      "\u001b[1;31mコマンド: 'python -m pip install jupyter notebook -U\n",
      "\u001b[1;31mor\n",
      "\u001b[1;31mconda install jupyter notebook -U'\n",
      "\u001b[1;31m詳細については<a href='https://aka.ms/installJupyterForVSCode'>こちら</a>をクリックしてください。"
     ]
    }
   ],
   "source": [
    "df"
   ]
  },
  {
   "cell_type": "code",
   "execution_count": null,
   "id": "6cec0d8f-0404-4210-b3b7-f805c180733d",
   "metadata": {},
   "outputs": [
    {
     "ename": "",
     "evalue": "",
     "output_type": "error",
     "traceback": [
      "\u001b[1;31mJupyter を起動できません。Jupyter の検索中にエラーが発生しました: 実行中のセルには notebook および jupyter パッケージが必要です。\n",
      "\u001b[1;31m次のコマンドを実行して、'jupyter および notebook' を Python 環境にインストールします。\n",
      "\u001b[1;31mコマンド: 'python -m pip install jupyter notebook -U\n",
      "\u001b[1;31mor\n",
      "\u001b[1;31mconda install jupyter notebook -U'\n",
      "\u001b[1;31m詳細については<a href='https://aka.ms/installJupyterForVSCode'>こちら</a>をクリックしてください。"
     ]
    }
   ],
   "source": [
    "df.head(5)"
   ]
  },
  {
   "cell_type": "code",
   "execution_count": null,
   "id": "dd7f3d7b-94b2-4c60-954d-ae9bacf8b19a",
   "metadata": {},
   "outputs": [
    {
     "ename": "",
     "evalue": "",
     "output_type": "error",
     "traceback": [
      "\u001b[1;31mJupyter を起動できません。Jupyter の検索中にエラーが発生しました: 実行中のセルには notebook および jupyter パッケージが必要です。\n",
      "\u001b[1;31m次のコマンドを実行して、'jupyter および notebook' を Python 環境にインストールします。\n",
      "\u001b[1;31mコマンド: 'python -m pip install jupyter notebook -U\n",
      "\u001b[1;31mor\n",
      "\u001b[1;31mconda install jupyter notebook -U'\n",
      "\u001b[1;31m詳細については<a href='https://aka.ms/installJupyterForVSCode'>こちら</a>をクリックしてください。"
     ]
    }
   ],
   "source": [
    "df.sample(3)"
   ]
  },
  {
   "cell_type": "code",
   "execution_count": null,
   "id": "2d8bfb42-5dcd-4360-ace6-89c5bed295c3",
   "metadata": {},
   "outputs": [
    {
     "ename": "",
     "evalue": "",
     "output_type": "error",
     "traceback": [
      "\u001b[1;31mJupyter を起動できません。Jupyter の検索中にエラーが発生しました: 実行中のセルには notebook および jupyter パッケージが必要です。\n",
      "\u001b[1;31m次のコマンドを実行して、'jupyter および notebook' を Python 環境にインストールします。\n",
      "\u001b[1;31mコマンド: 'python -m pip install jupyter notebook -U\n",
      "\u001b[1;31mor\n",
      "\u001b[1;31mconda install jupyter notebook -U'\n",
      "\u001b[1;31m詳細については<a href='https://aka.ms/installJupyterForVSCode'>こちら</a>をクリックしてください。"
     ]
    }
   ],
   "source": [
    "#データの形\n",
    "df.shape"
   ]
  },
  {
   "cell_type": "code",
   "execution_count": null,
   "id": "1b72f987-190a-4310-8829-fc9eb8b8a01c",
   "metadata": {},
   "outputs": [
    {
     "ename": "",
     "evalue": "",
     "output_type": "error",
     "traceback": [
      "\u001b[1;31mJupyter を起動できません。Jupyter の検索中にエラーが発生しました: 実行中のセルには notebook および jupyter パッケージが必要です。\n",
      "\u001b[1;31m次のコマンドを実行して、'jupyter および notebook' を Python 環境にインストールします。\n",
      "\u001b[1;31mコマンド: 'python -m pip install jupyter notebook -U\n",
      "\u001b[1;31mor\n",
      "\u001b[1;31mconda install jupyter notebook -U'\n",
      "\u001b[1;31m詳細については<a href='https://aka.ms/installJupyterForVSCode'>こちら</a>をクリックしてください。"
     ]
    }
   ],
   "source": [
    "#データの情報 型とか容量とか\n",
    "df.info()"
   ]
  },
  {
   "cell_type": "code",
   "execution_count": null,
   "id": "a928bdff-1c17-437a-aaf4-2c4e68e44788",
   "metadata": {},
   "outputs": [
    {
     "ename": "",
     "evalue": "",
     "output_type": "error",
     "traceback": [
      "\u001b[1;31mJupyter を起動できません。Jupyter の検索中にエラーが発生しました: 実行中のセルには notebook および jupyter パッケージが必要です。\n",
      "\u001b[1;31m次のコマンドを実行して、'jupyter および notebook' を Python 環境にインストールします。\n",
      "\u001b[1;31mコマンド: 'python -m pip install jupyter notebook -U\n",
      "\u001b[1;31mor\n",
      "\u001b[1;31mconda install jupyter notebook -U'\n",
      "\u001b[1;31m詳細については<a href='https://aka.ms/installJupyterForVSCode'>こちら</a>をクリックしてください。"
     ]
    }
   ],
   "source": [
    "#データが欠損している所をtrueで表示\n",
    "df.isnull()"
   ]
  },
  {
   "cell_type": "code",
   "execution_count": null,
   "id": "a0a1edbf-88d8-421a-ad38-367fed87d57e",
   "metadata": {},
   "outputs": [
    {
     "ename": "",
     "evalue": "",
     "output_type": "error",
     "traceback": [
      "\u001b[1;31mJupyter を起動できません。Jupyter の検索中にエラーが発生しました: 実行中のセルには notebook および jupyter パッケージが必要です。\n",
      "\u001b[1;31m次のコマンドを実行して、'jupyter および notebook' を Python 環境にインストールします。\n",
      "\u001b[1;31mコマンド: 'python -m pip install jupyter notebook -U\n",
      "\u001b[1;31mor\n",
      "\u001b[1;31mconda install jupyter notebook -U'\n",
      "\u001b[1;31m詳細については<a href='https://aka.ms/installJupyterForVSCode'>こちら</a>をクリックしてください。"
     ]
    }
   ],
   "source": [
    "#欠損しているところの合計を表示\n",
    "df.isnull().sum()"
   ]
  },
  {
   "cell_type": "markdown",
   "id": "fac3efe1-9ae3-48a1-afaf-45f3d12a8d55",
   "metadata": {},
   "source": [
    "**データ分析は基本的にデータがきれいじゃない。最初に欠損をチェックするが大事**"
   ]
  },
  {
   "cell_type": "markdown",
   "id": "f37c80e0-bbc1-4fad-ae81-2a9072292efa",
   "metadata": {},
   "source": [
    "# データの抽出\n",
    "\n",
    "エクセルでいうところのフィルターを作る作業"
   ]
  },
  {
   "cell_type": "code",
   "execution_count": null,
   "id": "599dbc20-9cdc-4eb6-be23-f57f9322043c",
   "metadata": {},
   "outputs": [
    {
     "ename": "",
     "evalue": "",
     "output_type": "error",
     "traceback": [
      "\u001b[1;31mJupyter を起動できません。Jupyter の検索中にエラーが発生しました: 実行中のセルには notebook および jupyter パッケージが必要です。\n",
      "\u001b[1;31m次のコマンドを実行して、'jupyter および notebook' を Python 環境にインストールします。\n",
      "\u001b[1;31mコマンド: 'python -m pip install jupyter notebook -U\n",
      "\u001b[1;31mor\n",
      "\u001b[1;31mconda install jupyter notebook -U'\n",
      "\u001b[1;31m詳細については<a href='https://aka.ms/installJupyterForVSCode'>こちら</a>をクリックしてください。"
     ]
    }
   ],
   "source": [
    "#locを使う。\n",
    "# : コロンは全てという意味になる。\n",
    "df.loc[:,:]"
   ]
  },
  {
   "cell_type": "code",
   "execution_count": null,
   "id": "6cfee3d7-3b17-4473-90e3-f419423f7c65",
   "metadata": {},
   "outputs": [
    {
     "ename": "",
     "evalue": "",
     "output_type": "error",
     "traceback": [
      "\u001b[1;31mJupyter を起動できません。Jupyter の検索中にエラーが発生しました: 実行中のセルには notebook および jupyter パッケージが必要です。\n",
      "\u001b[1;31m次のコマンドを実行して、'jupyter および notebook' を Python 環境にインストールします。\n",
      "\u001b[1;31mコマンド: 'python -m pip install jupyter notebook -U\n",
      "\u001b[1;31mor\n",
      "\u001b[1;31mconda install jupyter notebook -U'\n",
      "\u001b[1;31m詳細については<a href='https://aka.ms/installJupyterForVSCode'>こちら</a>をクリックしてください。"
     ]
    }
   ],
   "source": [
    "df.loc[[2, 4, 6, 8], ['PassengerId', 'Survived', 'Name']]"
   ]
  },
  {
   "cell_type": "code",
   "execution_count": null,
   "id": "ccb6354c-26d0-421c-b214-78e29a435668",
   "metadata": {},
   "outputs": [
    {
     "ename": "",
     "evalue": "",
     "output_type": "error",
     "traceback": [
      "\u001b[1;31mJupyter を起動できません。Jupyter の検索中にエラーが発生しました: 実行中のセルには notebook および jupyter パッケージが必要です。\n",
      "\u001b[1;31m次のコマンドを実行して、'jupyter および notebook' を Python 環境にインストールします。\n",
      "\u001b[1;31mコマンド: 'python -m pip install jupyter notebook -U\n",
      "\u001b[1;31mor\n",
      "\u001b[1;31mconda install jupyter notebook -U'\n",
      "\u001b[1;31m詳細については<a href='https://aka.ms/installJupyterForVSCode'>こちら</a>をクリックしてください。"
     ]
    }
   ],
   "source": [
    "import numpy as np"
   ]
  },
  {
   "cell_type": "code",
   "execution_count": null,
   "id": "27b61b1d-804f-47a5-8e2c-3c598f3e7711",
   "metadata": {},
   "outputs": [
    {
     "ename": "",
     "evalue": "",
     "output_type": "error",
     "traceback": [
      "\u001b[1;31mJupyter を起動できません。Jupyter の検索中にエラーが発生しました: 実行中のセルには notebook および jupyter パッケージが必要です。\n",
      "\u001b[1;31m次のコマンドを実行して、'jupyter および notebook' を Python 環境にインストールします。\n",
      "\u001b[1;31mコマンド: 'python -m pip install jupyter notebook -U\n",
      "\u001b[1;31mor\n",
      "\u001b[1;31mconda install jupyter notebook -U'\n",
      "\u001b[1;31m詳細については<a href='https://aka.ms/installJupyterForVSCode'>こちら</a>をクリックしてください。"
     ]
    }
   ],
   "source": [
    "np.arange(2,10,2)"
   ]
  },
  {
   "cell_type": "code",
   "execution_count": null,
   "id": "78141077-d452-4206-a8f6-2953469ed1e8",
   "metadata": {},
   "outputs": [
    {
     "ename": "",
     "evalue": "",
     "output_type": "error",
     "traceback": [
      "\u001b[1;31mJupyter を起動できません。Jupyter の検索中にエラーが発生しました: 実行中のセルには notebook および jupyter パッケージが必要です。\n",
      "\u001b[1;31m次のコマンドを実行して、'jupyter および notebook' を Python 環境にインストールします。\n",
      "\u001b[1;31mコマンド: 'python -m pip install jupyter notebook -U\n",
      "\u001b[1;31mor\n",
      "\u001b[1;31mconda install jupyter notebook -U'\n",
      "\u001b[1;31m詳細については<a href='https://aka.ms/installJupyterForVSCode'>こちら</a>をクリックしてください。"
     ]
    }
   ],
   "source": [
    "df.loc[np.arange(2,10,2),:]"
   ]
  },
  {
   "cell_type": "code",
   "execution_count": null,
   "id": "9b9bc41f-8961-4175-8373-da5ffa8f81d0",
   "metadata": {},
   "outputs": [
    {
     "ename": "",
     "evalue": "",
     "output_type": "error",
     "traceback": [
      "\u001b[1;31mJupyter を起動できません。Jupyter の検索中にエラーが発生しました: 実行中のセルには notebook および jupyter パッケージが必要です。\n",
      "\u001b[1;31m次のコマンドを実行して、'jupyter および notebook' を Python 環境にインストールします。\n",
      "\u001b[1;31mコマンド: 'python -m pip install jupyter notebook -U\n",
      "\u001b[1;31mor\n",
      "\u001b[1;31mconda install jupyter notebook -U'\n",
      "\u001b[1;31m詳細については<a href='https://aka.ms/installJupyterForVSCode'>こちら</a>をクリックしてください。"
     ]
    }
   ],
   "source": [
    "df[['Sex']]"
   ]
  },
  {
   "cell_type": "code",
   "execution_count": null,
   "id": "24a843a3-bb89-41f6-bb09-48a6dfacf072",
   "metadata": {},
   "outputs": [
    {
     "ename": "",
     "evalue": "",
     "output_type": "error",
     "traceback": [
      "\u001b[1;31mJupyter を起動できません。Jupyter の検索中にエラーが発生しました: 実行中のセルには notebook および jupyter パッケージが必要です。\n",
      "\u001b[1;31m次のコマンドを実行して、'jupyter および notebook' を Python 環境にインストールします。\n",
      "\u001b[1;31mコマンド: 'python -m pip install jupyter notebook -U\n",
      "\u001b[1;31mor\n",
      "\u001b[1;31mconda install jupyter notebook -U'\n",
      "\u001b[1;31m詳細については<a href='https://aka.ms/installJupyterForVSCode'>こちら</a>をクリックしてください。"
     ]
    }
   ],
   "source": [
    "#なにがるの？\n",
    "df['Sex'].unique()"
   ]
  },
  {
   "cell_type": "code",
   "execution_count": null,
   "id": "3445c365-5ff9-486f-917c-a27707234a3c",
   "metadata": {},
   "outputs": [
    {
     "ename": "",
     "evalue": "",
     "output_type": "error",
     "traceback": [
      "\u001b[1;31mJupyter を起動できません。Jupyter の検索中にエラーが発生しました: 実行中のセルには notebook および jupyter パッケージが必要です。\n",
      "\u001b[1;31m次のコマンドを実行して、'jupyter および notebook' を Python 環境にインストールします。\n",
      "\u001b[1;31mコマンド: 'python -m pip install jupyter notebook -U\n",
      "\u001b[1;31mor\n",
      "\u001b[1;31mconda install jupyter notebook -U'\n",
      "\u001b[1;31m詳細については<a href='https://aka.ms/installJupyterForVSCode'>こちら</a>をクリックしてください。"
     ]
    }
   ],
   "source": [
    "#だんせいかどうか\n",
    "df['Sex'] == 'male'"
   ]
  },
  {
   "cell_type": "code",
   "execution_count": null,
   "id": "b8701868-1b7f-4826-9a54-18bb559d0cf4",
   "metadata": {},
   "outputs": [
    {
     "ename": "",
     "evalue": "",
     "output_type": "error",
     "traceback": [
      "\u001b[1;31mJupyter を起動できません。Jupyter の検索中にエラーが発生しました: 実行中のセルには notebook および jupyter パッケージが必要です。\n",
      "\u001b[1;31m次のコマンドを実行して、'jupyter および notebook' を Python 環境にインストールします。\n",
      "\u001b[1;31mコマンド: 'python -m pip install jupyter notebook -U\n",
      "\u001b[1;31mor\n",
      "\u001b[1;31mconda install jupyter notebook -U'\n",
      "\u001b[1;31m詳細については<a href='https://aka.ms/installJupyterForVSCode'>こちら</a>をクリックしてください。"
     ]
    }
   ],
   "source": [
    "#男性の列だけ\n",
    "df.loc[df['Sex'] == 'male', :]"
   ]
  },
  {
   "cell_type": "code",
   "execution_count": null,
   "id": "cb3937d7-1edf-4ea0-ab6e-78102bf352a2",
   "metadata": {},
   "outputs": [
    {
     "ename": "",
     "evalue": "",
     "output_type": "error",
     "traceback": [
      "\u001b[1;31mJupyter を起動できません。Jupyter の検索中にエラーが発生しました: 実行中のセルには notebook および jupyter パッケージが必要です。\n",
      "\u001b[1;31m次のコマンドを実行して、'jupyter および notebook' を Python 環境にインストールします。\n",
      "\u001b[1;31mコマンド: 'python -m pip install jupyter notebook -U\n",
      "\u001b[1;31mor\n",
      "\u001b[1;31mconda install jupyter notebook -U'\n",
      "\u001b[1;31m詳細については<a href='https://aka.ms/installJupyterForVSCode'>こちら</a>をクリックしてください。"
     ]
    }
   ],
   "source": [
    "#女性の列だけ(否定の条件\n",
    "df.loc[df['Sex'] != 'male', :]"
   ]
  },
  {
   "cell_type": "code",
   "execution_count": null,
   "id": "ca0a6e9a-b7b7-4ee1-94c0-1d8208b36231",
   "metadata": {},
   "outputs": [
    {
     "ename": "",
     "evalue": "",
     "output_type": "error",
     "traceback": [
      "\u001b[1;31mJupyter を起動できません。Jupyter の検索中にエラーが発生しました: 実行中のセルには notebook および jupyter パッケージが必要です。\n",
      "\u001b[1;31m次のコマンドを実行して、'jupyter および notebook' を Python 環境にインストールします。\n",
      "\u001b[1;31mコマンド: 'python -m pip install jupyter notebook -U\n",
      "\u001b[1;31mor\n",
      "\u001b[1;31mconda install jupyter notebook -U'\n",
      "\u001b[1;31m詳細については<a href='https://aka.ms/installJupyterForVSCode'>こちら</a>をクリックしてください。"
     ]
    }
   ],
   "source": [
    "#女性の列だけ(否定の条件\n",
    "df.loc[~(df['Sex'] == 'male'), :]"
   ]
  },
  {
   "cell_type": "code",
   "execution_count": null,
   "id": "64945537-bf9d-46b3-bbcc-5f00f71b6c79",
   "metadata": {},
   "outputs": [
    {
     "ename": "",
     "evalue": "",
     "output_type": "error",
     "traceback": [
      "\u001b[1;31mJupyter を起動できません。Jupyter の検索中にエラーが発生しました: 実行中のセルには notebook および jupyter パッケージが必要です。\n",
      "\u001b[1;31m次のコマンドを実行して、'jupyter および notebook' を Python 環境にインストールします。\n",
      "\u001b[1;31mコマンド: 'python -m pip install jupyter notebook -U\n",
      "\u001b[1;31mor\n",
      "\u001b[1;31mconda install jupyter notebook -U'\n",
      "\u001b[1;31m詳細については<a href='https://aka.ms/installJupyterForVSCode'>こちら</a>をクリックしてください。"
     ]
    }
   ],
   "source": [
    "# 複数条件を同時に指定するとき\n",
    "# 性別＝女性　”かつ”　Ageが10以下\n",
    "df.loc[(df['Sex'] == 'female')&(df['Age']<=10), :].head()"
   ]
  },
  {
   "cell_type": "code",
   "execution_count": null,
   "id": "16ec94c8-d628-451c-b6c1-efac3b90f13a",
   "metadata": {},
   "outputs": [
    {
     "ename": "",
     "evalue": "",
     "output_type": "error",
     "traceback": [
      "\u001b[1;31mJupyter を起動できません。Jupyter の検索中にエラーが発生しました: 実行中のセルには notebook および jupyter パッケージが必要です。\n",
      "\u001b[1;31m次のコマンドを実行して、'jupyter および notebook' を Python 環境にインストールします。\n",
      "\u001b[1;31mコマンド: 'python -m pip install jupyter notebook -U\n",
      "\u001b[1;31mor\n",
      "\u001b[1;31mconda install jupyter notebook -U'\n",
      "\u001b[1;31m詳細については<a href='https://aka.ms/installJupyterForVSCode'>こちら</a>をクリックしてください。"
     ]
    }
   ],
   "source": [
    "# 複数条件を同時に指定するとき\n",
    "# 性別＝女性　”または”　Ageが10以下\n",
    "df.loc[(df['Sex'] == 'female') | (df['Age']<=10), :].head()"
   ]
  },
  {
   "cell_type": "markdown",
   "id": "9aab622f-0f23-4fe6-9e5d-a1fe014879d2",
   "metadata": {},
   "source": [
    "# 統計的なところ"
   ]
  },
  {
   "cell_type": "markdown",
   "id": "25d2e111-110a-41d5-8138-bd94c77d6638",
   "metadata": {},
   "source": [
    "## 集計"
   ]
  },
  {
   "cell_type": "code",
   "execution_count": null,
   "id": "5732aa01-3f7e-4aef-abb7-70554f364011",
   "metadata": {},
   "outputs": [
    {
     "ename": "",
     "evalue": "",
     "output_type": "error",
     "traceback": [
      "\u001b[1;31mJupyter を起動できません。Jupyter の検索中にエラーが発生しました: 実行中のセルには notebook および jupyter パッケージが必要です。\n",
      "\u001b[1;31m次のコマンドを実行して、'jupyter および notebook' を Python 環境にインストールします。\n",
      "\u001b[1;31mコマンド: 'python -m pip install jupyter notebook -U\n",
      "\u001b[1;31mor\n",
      "\u001b[1;31mconda install jupyter notebook -U'\n",
      "\u001b[1;31m詳細については<a href='https://aka.ms/installJupyterForVSCode'>こちら</a>をクリックしてください。"
     ]
    }
   ],
   "source": [
    "# 1つの列を選んで平均や合計のみ見るとき\n",
    "df['Age'].mean()"
   ]
  },
  {
   "cell_type": "code",
   "execution_count": null,
   "id": "efd1a2d2-5c74-4085-903b-1eaf2d472e83",
   "metadata": {},
   "outputs": [
    {
     "ename": "",
     "evalue": "",
     "output_type": "error",
     "traceback": [
      "\u001b[1;31mJupyter を起動できません。Jupyter の検索中にエラーが発生しました: 実行中のセルには notebook および jupyter パッケージが必要です。\n",
      "\u001b[1;31m次のコマンドを実行して、'jupyter および notebook' を Python 環境にインストールします。\n",
      "\u001b[1;31mコマンド: 'python -m pip install jupyter notebook -U\n",
      "\u001b[1;31mor\n",
      "\u001b[1;31mconda install jupyter notebook -U'\n",
      "\u001b[1;31m詳細については<a href='https://aka.ms/installJupyterForVSCode'>こちら</a>をクリックしてください。"
     ]
    }
   ],
   "source": [
    "# 中央値\n",
    "df['Age'].median()"
   ]
  },
  {
   "cell_type": "code",
   "execution_count": null,
   "id": "c3a16a5c-c038-42d0-a2e2-e66a484f548a",
   "metadata": {},
   "outputs": [
    {
     "ename": "",
     "evalue": "",
     "output_type": "error",
     "traceback": [
      "\u001b[1;31mJupyter を起動できません。Jupyter の検索中にエラーが発生しました: 実行中のセルには notebook および jupyter パッケージが必要です。\n",
      "\u001b[1;31m次のコマンドを実行して、'jupyter および notebook' を Python 環境にインストールします。\n",
      "\u001b[1;31mコマンド: 'python -m pip install jupyter notebook -U\n",
      "\u001b[1;31mor\n",
      "\u001b[1;31mconda install jupyter notebook -U'\n",
      "\u001b[1;31m詳細については<a href='https://aka.ms/installJupyterForVSCode'>こちら</a>をクリックしてください。"
     ]
    }
   ],
   "source": [
    "# 1つの列を選んで平均や合計のみ見るとき\n",
    "df['Fare'].sum()"
   ]
  },
  {
   "cell_type": "code",
   "execution_count": null,
   "id": "fbd594db-0f77-475a-8e5a-01558370a85c",
   "metadata": {},
   "outputs": [
    {
     "ename": "",
     "evalue": "",
     "output_type": "error",
     "traceback": [
      "\u001b[1;31mJupyter を起動できません。Jupyter の検索中にエラーが発生しました: 実行中のセルには notebook および jupyter パッケージが必要です。\n",
      "\u001b[1;31m次のコマンドを実行して、'jupyter および notebook' を Python 環境にインストールします。\n",
      "\u001b[1;31mコマンド: 'python -m pip install jupyter notebook -U\n",
      "\u001b[1;31mor\n",
      "\u001b[1;31mconda install jupyter notebook -U'\n",
      "\u001b[1;31m詳細については<a href='https://aka.ms/installJupyterForVSCode'>こちら</a>をクリックしてください。"
     ]
    }
   ],
   "source": [
    "# quantileで分位点の確認\n",
    "df['Age'].quantile(0.25)"
   ]
  },
  {
   "cell_type": "code",
   "execution_count": null,
   "id": "ddbc320b-5054-4464-905a-9fa2ffb9af53",
   "metadata": {},
   "outputs": [
    {
     "ename": "",
     "evalue": "",
     "output_type": "error",
     "traceback": [
      "\u001b[1;31mJupyter を起動できません。Jupyter の検索中にエラーが発生しました: 実行中のセルには notebook および jupyter パッケージが必要です。\n",
      "\u001b[1;31m次のコマンドを実行して、'jupyter および notebook' を Python 環境にインストールします。\n",
      "\u001b[1;31mコマンド: 'python -m pip install jupyter notebook -U\n",
      "\u001b[1;31mor\n",
      "\u001b[1;31mconda install jupyter notebook -U'\n",
      "\u001b[1;31m詳細については<a href='https://aka.ms/installJupyterForVSCode'>こちら</a>をクリックしてください。"
     ]
    }
   ],
   "source": [
    "# 値の数を数える\n",
    "df['Survived'].value_counts()"
   ]
  },
  {
   "cell_type": "code",
   "execution_count": null,
   "id": "8d72b913-fe58-4eeb-a44a-313c1856051b",
   "metadata": {},
   "outputs": [
    {
     "ename": "",
     "evalue": "",
     "output_type": "error",
     "traceback": [
      "\u001b[1;31mJupyter を起動できません。Jupyter の検索中にエラーが発生しました: 実行中のセルには notebook および jupyter パッケージが必要です。\n",
      "\u001b[1;31m次のコマンドを実行して、'jupyter および notebook' を Python 環境にインストールします。\n",
      "\u001b[1;31mコマンド: 'python -m pip install jupyter notebook -U\n",
      "\u001b[1;31mor\n",
      "\u001b[1;31mconda install jupyter notebook -U'\n",
      "\u001b[1;31m詳細については<a href='https://aka.ms/installJupyterForVSCode'>こちら</a>をクリックしてください。"
     ]
    }
   ],
   "source": [
    "# カテゴリ変数の内容確認　ユニーク数\n",
    "df['Pclass'].nunique()"
   ]
  },
  {
   "cell_type": "code",
   "execution_count": null,
   "id": "1cbe0cf0-0d13-4e60-aec0-84b51ce7382d",
   "metadata": {},
   "outputs": [
    {
     "ename": "",
     "evalue": "",
     "output_type": "error",
     "traceback": [
      "\u001b[1;31mJupyter を起動できません。Jupyter の検索中にエラーが発生しました: 実行中のセルには notebook および jupyter パッケージが必要です。\n",
      "\u001b[1;31m次のコマンドを実行して、'jupyter および notebook' を Python 環境にインストールします。\n",
      "\u001b[1;31mコマンド: 'python -m pip install jupyter notebook -U\n",
      "\u001b[1;31mor\n",
      "\u001b[1;31mconda install jupyter notebook -U'\n",
      "\u001b[1;31m詳細については<a href='https://aka.ms/installJupyterForVSCode'>こちら</a>をクリックしてください。"
     ]
    }
   ],
   "source": [
    "# カテゴリ変数の内容確認　ユニーク\n",
    "df['Pclass'].unique()"
   ]
  },
  {
   "cell_type": "code",
   "execution_count": null,
   "id": "d405cb69-f36b-4b21-be0f-848465a5037b",
   "metadata": {},
   "outputs": [
    {
     "ename": "",
     "evalue": "",
     "output_type": "error",
     "traceback": [
      "\u001b[1;31mJupyter を起動できません。Jupyter の検索中にエラーが発生しました: 実行中のセルには notebook および jupyter パッケージが必要です。\n",
      "\u001b[1;31m次のコマンドを実行して、'jupyter および notebook' を Python 環境にインストールします。\n",
      "\u001b[1;31mコマンド: 'python -m pip install jupyter notebook -U\n",
      "\u001b[1;31mor\n",
      "\u001b[1;31mconda install jupyter notebook -U'\n",
      "\u001b[1;31m詳細については<a href='https://aka.ms/installJupyterForVSCode'>こちら</a>をクリックしてください。"
     ]
    }
   ],
   "source": [
    "# .locと合わせて\n",
    "df.loc[df['Survived']==1, 'Age'].mean()"
   ]
  },
  {
   "cell_type": "markdown",
   "id": "50f31a2e-8022-4543-ad26-78f23d97182a",
   "metadata": {},
   "source": [
    "## group by 使える"
   ]
  },
  {
   "cell_type": "code",
   "execution_count": null,
   "id": "aa474a5a-0b51-46f9-9686-11360bd28abe",
   "metadata": {},
   "outputs": [
    {
     "ename": "",
     "evalue": "",
     "output_type": "error",
     "traceback": [
      "\u001b[1;31mJupyter を起動できません。Jupyter の検索中にエラーが発生しました: 実行中のセルには notebook および jupyter パッケージが必要です。\n",
      "\u001b[1;31m次のコマンドを実行して、'jupyter および notebook' を Python 環境にインストールします。\n",
      "\u001b[1;31mコマンド: 'python -m pip install jupyter notebook -U\n",
      "\u001b[1;31mor\n",
      "\u001b[1;31mconda install jupyter notebook -U'\n",
      "\u001b[1;31m詳細については<a href='https://aka.ms/installJupyterForVSCode'>こちら</a>をクリックしてください。"
     ]
    }
   ],
   "source": [
    "# group by\n",
    "df.groupby('Sex').sum()"
   ]
  },
  {
   "cell_type": "code",
   "execution_count": null,
   "id": "ec434a9a-ae48-4efb-9e42-6d21899f94dd",
   "metadata": {},
   "outputs": [
    {
     "ename": "",
     "evalue": "",
     "output_type": "error",
     "traceback": [
      "\u001b[1;31mJupyter を起動できません。Jupyter の検索中にエラーが発生しました: 実行中のセルには notebook および jupyter パッケージが必要です。\n",
      "\u001b[1;31m次のコマンドを実行して、'jupyter および notebook' を Python 環境にインストールします。\n",
      "\u001b[1;31mコマンド: 'python -m pip install jupyter notebook -U\n",
      "\u001b[1;31mor\n",
      "\u001b[1;31mconda install jupyter notebook -U'\n",
      "\u001b[1;31m詳細については<a href='https://aka.ms/installJupyterForVSCode'>こちら</a>をクリックしてください。"
     ]
    }
   ],
   "source": [
    "# group by\n",
    "df.groupby('Sex')['Age'].mean()"
   ]
  },
  {
   "cell_type": "code",
   "execution_count": null,
   "id": "8dc6a5db-8c0a-4953-8db5-b9f2f0723da4",
   "metadata": {},
   "outputs": [
    {
     "ename": "",
     "evalue": "",
     "output_type": "error",
     "traceback": [
      "\u001b[1;31mJupyter を起動できません。Jupyter の検索中にエラーが発生しました: 実行中のセルには notebook および jupyter パッケージが必要です。\n",
      "\u001b[1;31m次のコマンドを実行して、'jupyter および notebook' を Python 環境にインストールします。\n",
      "\u001b[1;31mコマンド: 'python -m pip install jupyter notebook -U\n",
      "\u001b[1;31mor\n",
      "\u001b[1;31mconda install jupyter notebook -U'\n",
      "\u001b[1;31m詳細については<a href='https://aka.ms/installJupyterForVSCode'>こちら</a>をクリックしてください。"
     ]
    }
   ],
   "source": [
    "df.groupby('Sex')['Age'].mean().reset_index()"
   ]
  },
  {
   "cell_type": "code",
   "execution_count": null,
   "id": "e967c64c-b417-4cfe-a898-e1484c188557",
   "metadata": {},
   "outputs": [
    {
     "ename": "",
     "evalue": "",
     "output_type": "error",
     "traceback": [
      "\u001b[1;31mJupyter を起動できません。Jupyter の検索中にエラーが発生しました: 実行中のセルには notebook および jupyter パッケージが必要です。\n",
      "\u001b[1;31m次のコマンドを実行して、'jupyter および notebook' を Python 環境にインストールします。\n",
      "\u001b[1;31mコマンド: 'python -m pip install jupyter notebook -U\n",
      "\u001b[1;31mor\n",
      "\u001b[1;31mconda install jupyter notebook -U'\n",
      "\u001b[1;31m詳細については<a href='https://aka.ms/installJupyterForVSCode'>こちら</a>をクリックしてください。"
     ]
    }
   ],
   "source": [
    "# クロス集計表の作成 ピポットテーブル\n",
    "df.pivot_table(index='Sex', columns='Survived', values='PassengerId', aggfunc='count')"
   ]
  },
  {
   "cell_type": "markdown",
   "id": "5d6a2965-6af3-4322-b289-c302c76d99c1",
   "metadata": {},
   "source": [
    "## データ加工"
   ]
  },
  {
   "cell_type": "markdown",
   "id": "77fa29ee-3b1f-43a8-98fe-d52d145ef2bc",
   "metadata": {},
   "source": [
    "pythonは軽視されがちがけど、型は重要"
   ]
  },
  {
   "cell_type": "code",
   "execution_count": null,
   "id": "0e37c245-f3c8-447d-b972-3eff51ce9678",
   "metadata": {},
   "outputs": [
    {
     "ename": "",
     "evalue": "",
     "output_type": "error",
     "traceback": [
      "\u001b[1;31mJupyter を起動できません。Jupyter の検索中にエラーが発生しました: 実行中のセルには notebook および jupyter パッケージが必要です。\n",
      "\u001b[1;31m次のコマンドを実行して、'jupyter および notebook' を Python 環境にインストールします。\n",
      "\u001b[1;31mコマンド: 'python -m pip install jupyter notebook -U\n",
      "\u001b[1;31mor\n",
      "\u001b[1;31mconda install jupyter notebook -U'\n",
      "\u001b[1;31m詳細については<a href='https://aka.ms/installJupyterForVSCode'>こちら</a>をクリックしてください。"
     ]
    }
   ],
   "source": [
    "# 列の型変更　（int型をobject型へ変える） 元のデータが書き換わるわけではない\n",
    "df['PassengerId'].astype(str)"
   ]
  },
  {
   "cell_type": "code",
   "execution_count": null,
   "id": "b9cf8f56-7b9a-4d34-8bb5-71f98ee7faf9",
   "metadata": {},
   "outputs": [
    {
     "ename": "",
     "evalue": "",
     "output_type": "error",
     "traceback": [
      "\u001b[1;31mJupyter を起動できません。Jupyter の検索中にエラーが発生しました: 実行中のセルには notebook および jupyter パッケージが必要です。\n",
      "\u001b[1;31m次のコマンドを実行して、'jupyter および notebook' を Python 環境にインストールします。\n",
      "\u001b[1;31mコマンド: 'python -m pip install jupyter notebook -U\n",
      "\u001b[1;31mor\n",
      "\u001b[1;31mconda install jupyter notebook -U'\n",
      "\u001b[1;31m詳細については<a href='https://aka.ms/installJupyterForVSCode'>こちら</a>をクリックしてください。"
     ]
    }
   ],
   "source": [
    "# 新たな列を追加\n",
    "df['StrPassengerId'] = df['PassengerId'].astype(str)\n",
    "df['StrPassengerId']"
   ]
  },
  {
   "cell_type": "code",
   "execution_count": null,
   "id": "6dc8f7b7-971f-4845-9781-2abfdaa1beb9",
   "metadata": {},
   "outputs": [
    {
     "ename": "",
     "evalue": "",
     "output_type": "error",
     "traceback": [
      "\u001b[1;31mJupyter を起動できません。Jupyter の検索中にエラーが発生しました: 実行中のセルには notebook および jupyter パッケージが必要です。\n",
      "\u001b[1;31m次のコマンドを実行して、'jupyter および notebook' を Python 環境にインストールします。\n",
      "\u001b[1;31mコマンド: 'python -m pip install jupyter notebook -U\n",
      "\u001b[1;31mor\n",
      "\u001b[1;31mconda install jupyter notebook -U'\n",
      "\u001b[1;31m詳細については<a href='https://aka.ms/installJupyterForVSCode'>こちら</a>をクリックしてください。"
     ]
    }
   ],
   "source": [
    "# データの並べ替え\n",
    "df.sort_values('Fare', ascending=False)"
   ]
  },
  {
   "cell_type": "code",
   "execution_count": null,
   "id": "63d3cef6-c14d-4d50-8da7-021cace6c5d0",
   "metadata": {},
   "outputs": [
    {
     "ename": "",
     "evalue": "",
     "output_type": "error",
     "traceback": [
      "\u001b[1;31mJupyter を起動できません。Jupyter の検索中にエラーが発生しました: 実行中のセルには notebook および jupyter パッケージが必要です。\n",
      "\u001b[1;31m次のコマンドを実行して、'jupyter および notebook' を Python 環境にインストールします。\n",
      "\u001b[1;31mコマンド: 'python -m pip install jupyter notebook -U\n",
      "\u001b[1;31mor\n",
      "\u001b[1;31mconda install jupyter notebook -U'\n",
      "\u001b[1;31m詳細については<a href='https://aka.ms/installJupyterForVSCode'>こちら</a>をクリックしてください。"
     ]
    }
   ],
   "source": [
    "# 指定した列（Series）をリストに変換\n",
    "name_list = df['Name'].tolist()\n",
    "\n",
    "# リストの10番まで表示\n",
    "name_list[:10]"
   ]
  },
  {
   "cell_type": "code",
   "execution_count": null,
   "id": "0abcf212-77a5-4a1e-a5db-d0c7da65ca27",
   "metadata": {},
   "outputs": [
    {
     "ename": "",
     "evalue": "",
     "output_type": "error",
     "traceback": [
      "\u001b[1;31mJupyter を起動できません。Jupyter の検索中にエラーが発生しました: 実行中のセルには notebook および jupyter パッケージが必要です。\n",
      "\u001b[1;31m次のコマンドを実行して、'jupyter および notebook' を Python 環境にインストールします。\n",
      "\u001b[1;31mコマンド: 'python -m pip install jupyter notebook -U\n",
      "\u001b[1;31mor\n",
      "\u001b[1;31mconda install jupyter notebook -U'\n",
      "\u001b[1;31m詳細については<a href='https://aka.ms/installJupyterForVSCode'>こちら</a>をクリックしてください。"
     ]
    }
   ],
   "source": [
    "# リストの順番を並び替え\n",
    "sorted_name_list = sorted(name_list)\n",
    "\n",
    "# 並び替えたリストの10番まで表示\n",
    "sorted_name_list[:10]"
   ]
  },
  {
   "cell_type": "code",
   "execution_count": null,
   "id": "916e1511-2dd1-461c-81c3-fccb62eb2f44",
   "metadata": {},
   "outputs": [
    {
     "ename": "",
     "evalue": "",
     "output_type": "error",
     "traceback": [
      "\u001b[1;31mJupyter を起動できません。Jupyter の検索中にエラーが発生しました: 実行中のセルには notebook および jupyter パッケージが必要です。\n",
      "\u001b[1;31m次のコマンドを実行して、'jupyter および notebook' を Python 環境にインストールします。\n",
      "\u001b[1;31mコマンド: 'python -m pip install jupyter notebook -U\n",
      "\u001b[1;31mor\n",
      "\u001b[1;31mconda install jupyter notebook -U'\n",
      "\u001b[1;31m詳細については<a href='https://aka.ms/installJupyterForVSCode'>こちら</a>をクリックしてください。"
     ]
    }
   ],
   "source": [
    "# 日付のサンプルデータ作成 DatetimeIndex っていう型でできる\n",
    "dateidx = pd.date_range(start='2021-02-03', periods=10, freq='D')\n",
    "dateidx"
   ]
  },
  {
   "cell_type": "code",
   "execution_count": null,
   "id": "6240b71f-9e37-4858-b5bd-47777ca3591e",
   "metadata": {},
   "outputs": [
    {
     "ename": "",
     "evalue": "",
     "output_type": "error",
     "traceback": [
      "\u001b[1;31mJupyter を起動できません。Jupyter の検索中にエラーが発生しました: 実行中のセルには notebook および jupyter パッケージが必要です。\n",
      "\u001b[1;31m次のコマンドを実行して、'jupyter および notebook' を Python 環境にインストールします。\n",
      "\u001b[1;31mコマンド: 'python -m pip install jupyter notebook -U\n",
      "\u001b[1;31mor\n",
      "\u001b[1;31mconda install jupyter notebook -U'\n",
      "\u001b[1;31m詳細については<a href='https://aka.ms/installJupyterForVSCode'>こちら</a>をクリックしてください。"
     ]
    }
   ],
   "source": [
    "date_series = pd.Series(dateidx)\n",
    "date_series"
   ]
  },
  {
   "cell_type": "code",
   "execution_count": null,
   "id": "029d7d3f-6626-492b-be7e-53263b76ae68",
   "metadata": {},
   "outputs": [
    {
     "ename": "",
     "evalue": "",
     "output_type": "error",
     "traceback": [
      "\u001b[1;31mJupyter を起動できません。Jupyter の検索中にエラーが発生しました: 実行中のセルには notebook および jupyter パッケージが必要です。\n",
      "\u001b[1;31m次のコマンドを実行して、'jupyter および notebook' を Python 環境にインストールします。\n",
      "\u001b[1;31mコマンド: 'python -m pip install jupyter notebook -U\n",
      "\u001b[1;31mor\n",
      "\u001b[1;31mconda install jupyter notebook -U'\n",
      "\u001b[1;31m詳細については<a href='https://aka.ms/installJupyterForVSCode'>こちら</a>をクリックしてください。"
     ]
    }
   ],
   "source": [
    "# .dt.ホゲホゲ　でdatetime64[ns]型の日付データから年、月、日、曜日、第何週など情報が取れる\n",
    "date_series.dt.month"
   ]
  },
  {
   "cell_type": "code",
   "execution_count": null,
   "id": "387b152b-05a5-4fa6-80cb-02696b922445",
   "metadata": {},
   "outputs": [
    {
     "ename": "",
     "evalue": "",
     "output_type": "error",
     "traceback": [
      "\u001b[1;31mJupyter を起動できません。Jupyter の検索中にエラーが発生しました: 実行中のセルには notebook および jupyter パッケージが必要です。\n",
      "\u001b[1;31m次のコマンドを実行して、'jupyter および notebook' を Python 環境にインストールします。\n",
      "\u001b[1;31mコマンド: 'python -m pip install jupyter notebook -U\n",
      "\u001b[1;31mor\n",
      "\u001b[1;31mconda install jupyter notebook -U'\n",
      "\u001b[1;31m詳細については<a href='https://aka.ms/installJupyterForVSCode'>こちら</a>をクリックしてください。"
     ]
    }
   ],
   "source": [
    "date_series.dt.weekday"
   ]
  },
  {
   "cell_type": "code",
   "execution_count": null,
   "id": "d4ae7bb0-235d-456b-aaa9-71163fee1574",
   "metadata": {},
   "outputs": [
    {
     "ename": "",
     "evalue": "",
     "output_type": "error",
     "traceback": [
      "\u001b[1;31mJupyter を起動できません。Jupyter の検索中にエラーが発生しました: 実行中のセルには notebook および jupyter パッケージが必要です。\n",
      "\u001b[1;31m次のコマンドを実行して、'jupyter および notebook' を Python 環境にインストールします。\n",
      "\u001b[1;31mコマンド: 'python -m pip install jupyter notebook -U\n",
      "\u001b[1;31mor\n",
      "\u001b[1;31mconda install jupyter notebook -U'\n",
      "\u001b[1;31m詳細については<a href='https://aka.ms/installJupyterForVSCode'>こちら</a>をクリックしてください。"
     ]
    }
   ],
   "source": [
    "date_series.dt.day_name()"
   ]
  },
  {
   "cell_type": "markdown",
   "id": "b06a2d64-9ce9-4115-ab3a-dd2a5c312df9",
   "metadata": {},
   "source": [
    "### 練習"
   ]
  },
  {
   "cell_type": "code",
   "execution_count": null,
   "id": "9450a595-4f78-47c5-8b2f-90e302a5b359",
   "metadata": {},
   "outputs": [
    {
     "ename": "",
     "evalue": "",
     "output_type": "error",
     "traceback": [
      "\u001b[1;31mJupyter を起動できません。Jupyter の検索中にエラーが発生しました: 実行中のセルには notebook および jupyter パッケージが必要です。\n",
      "\u001b[1;31m次のコマンドを実行して、'jupyter および notebook' を Python 環境にインストールします。\n",
      "\u001b[1;31mコマンド: 'python -m pip install jupyter notebook -U\n",
      "\u001b[1;31mor\n",
      "\u001b[1;31mconda install jupyter notebook -U'\n",
      "\u001b[1;31m詳細については<a href='https://aka.ms/installJupyterForVSCode'>こちら</a>をクリックしてください。"
     ]
    }
   ],
   "source": [
    "# 文字列をdatetime型にする時は pd.to_datetime()を使う\n",
    "# サンプルデータ作成\n",
    "datedf_example = pd.DataFrame(\n",
    "    [['2020-02-01', 180]\n",
    "     , ['2020-02-02', 192]\n",
    "     , ['2020-02-03', 186]\n",
    "     , ['2020-02-04', 173]\n",
    "     , ['2020-02-05', 119]\n",
    "     , ['2020-02-06', 168]\n",
    "     , ['2020-02-07', 157]\n",
    "     , ['2020-02-08', 204]\n",
    "     , ['2020-02-09', 181]\n",
    "     , ['2020-02-10', 188]])\n",
    "datedf_example.columns=['date_str', 'value']\n",
    "datedf_example"
   ]
  },
  {
   "cell_type": "code",
   "execution_count": null,
   "id": "4c23cd9d-c1ea-4681-92ad-0c9873a80d6b",
   "metadata": {},
   "outputs": [
    {
     "ename": "",
     "evalue": "",
     "output_type": "error",
     "traceback": [
      "\u001b[1;31mJupyter を起動できません。Jupyter の検索中にエラーが発生しました: 実行中のセルには notebook および jupyter パッケージが必要です。\n",
      "\u001b[1;31m次のコマンドを実行して、'jupyter および notebook' を Python 環境にインストールします。\n",
      "\u001b[1;31mコマンド: 'python -m pip install jupyter notebook -U\n",
      "\u001b[1;31mor\n",
      "\u001b[1;31mconda install jupyter notebook -U'\n",
      "\u001b[1;31m詳細については<a href='https://aka.ms/installJupyterForVSCode'>こちら</a>をクリックしてください。"
     ]
    }
   ],
   "source": [
    "#日付を文字列型からdatetime型に変換する\n",
    "datedf_example['date_datetime'] = pd.to_datetime(datedf_example['date_str'], format='%Y-%m-%d')\n",
    "datedf_example"
   ]
  },
  {
   "cell_type": "code",
   "execution_count": null,
   "id": "17d3e005-10fc-40cb-92c7-c98a3db86b1c",
   "metadata": {},
   "outputs": [
    {
     "ename": "",
     "evalue": "",
     "output_type": "error",
     "traceback": [
      "\u001b[1;31mJupyter を起動できません。Jupyter の検索中にエラーが発生しました: 実行中のセルには notebook および jupyter パッケージが必要です。\n",
      "\u001b[1;31m次のコマンドを実行して、'jupyter および notebook' を Python 環境にインストールします。\n",
      "\u001b[1;31mコマンド: 'python -m pip install jupyter notebook -U\n",
      "\u001b[1;31mor\n",
      "\u001b[1;31mconda install jupyter notebook -U'\n",
      "\u001b[1;31m詳細については<a href='https://aka.ms/installJupyterForVSCode'>こちら</a>をクリックしてください。"
     ]
    }
   ],
   "source": [
    "#曜日や週番号などが簡単に取得できるようになる。\n",
    "datedf_example['date_datetime'].dt.day_name()"
   ]
  },
  {
   "cell_type": "markdown",
   "id": "05d9abfe-e666-4183-9c09-a47004a8ba5f",
   "metadata": {},
   "source": [
    "### 列を追加していく"
   ]
  },
  {
   "cell_type": "code",
   "execution_count": null,
   "id": "8ba826ef-2c7f-49e4-bdb1-8ed545ebb086",
   "metadata": {},
   "outputs": [
    {
     "ename": "",
     "evalue": "",
     "output_type": "error",
     "traceback": [
      "\u001b[1;31mJupyter を起動できません。Jupyter の検索中にエラーが発生しました: 実行中のセルには notebook および jupyter パッケージが必要です。\n",
      "\u001b[1;31m次のコマンドを実行して、'jupyter および notebook' を Python 環境にインストールします。\n",
      "\u001b[1;31mコマンド: 'python -m pip install jupyter notebook -U\n",
      "\u001b[1;31mor\n",
      "\u001b[1;31mconda install jupyter notebook -U'\n",
      "\u001b[1;31m詳細については<a href='https://aka.ms/installJupyterForVSCode'>こちら</a>をクリックしてください。"
     ]
    }
   ],
   "source": [
    "df['Embarked']"
   ]
  },
  {
   "cell_type": "code",
   "execution_count": null,
   "id": "b5e5d84e-a8b2-4dc0-ac5e-81617053312d",
   "metadata": {},
   "outputs": [
    {
     "ename": "",
     "evalue": "",
     "output_type": "error",
     "traceback": [
      "\u001b[1;31mJupyter を起動できません。Jupyter の検索中にエラーが発生しました: 実行中のセルには notebook および jupyter パッケージが必要です。\n",
      "\u001b[1;31m次のコマンドを実行して、'jupyter および notebook' を Python 環境にインストールします。\n",
      "\u001b[1;31mコマンド: 'python -m pip install jupyter notebook -U\n",
      "\u001b[1;31mor\n",
      "\u001b[1;31mconda install jupyter notebook -U'\n",
      "\u001b[1;31m詳細については<a href='https://aka.ms/installJupyterForVSCode'>こちら</a>をクリックしてください。"
     ]
    }
   ],
   "source": [
    "df['Embarked'].unique()"
   ]
  },
  {
   "cell_type": "code",
   "execution_count": null,
   "id": "a692fe5c-5062-41d5-8982-bdfb2fee8881",
   "metadata": {},
   "outputs": [
    {
     "ename": "",
     "evalue": "",
     "output_type": "error",
     "traceback": [
      "\u001b[1;31mJupyter を起動できません。Jupyter の検索中にエラーが発生しました: 実行中のセルには notebook および jupyter パッケージが必要です。\n",
      "\u001b[1;31m次のコマンドを実行して、'jupyter および notebook' を Python 環境にインストールします。\n",
      "\u001b[1;31mコマンド: 'python -m pip install jupyter notebook -U\n",
      "\u001b[1;31mor\n",
      "\u001b[1;31mconda install jupyter notebook -U'\n",
      "\u001b[1;31m詳細については<a href='https://aka.ms/installJupyterForVSCode'>こちら</a>をクリックしてください。"
     ]
    }
   ],
   "source": [
    "# .locを使って乗船した港を数値化した列を作成\n",
    "# やや冗長な書き方ですが、0の列を作っておいて条件に当てはまる列にだけ1を代入していく方法です\n",
    "\n",
    "df['Embarked_is_C'] = 0\n",
    "df['Embarked_is_S'] = 0\n",
    "df['Embarked_is_Q'] = 0\n",
    "\n",
    "df.loc[df['Embarked']=='C', 'Embarked_is_C'] = 1\n",
    "df.loc[df['Embarked']=='S', 'Embarked_is_S'] = 1\n",
    "df.loc[df['Embarked']=='Q', 'Embarked_is_Q'] = 1"
   ]
  },
  {
   "cell_type": "code",
   "execution_count": null,
   "id": "cbbaa428-ab6d-484e-9c18-ed4e6e3ee7b1",
   "metadata": {},
   "outputs": [
    {
     "ename": "",
     "evalue": "",
     "output_type": "error",
     "traceback": [
      "\u001b[1;31mJupyter を起動できません。Jupyter の検索中にエラーが発生しました: 実行中のセルには notebook および jupyter パッケージが必要です。\n",
      "\u001b[1;31m次のコマンドを実行して、'jupyter および notebook' を Python 環境にインストールします。\n",
      "\u001b[1;31mコマンド: 'python -m pip install jupyter notebook -U\n",
      "\u001b[1;31mor\n",
      "\u001b[1;31mconda install jupyter notebook -U'\n",
      "\u001b[1;31m詳細については<a href='https://aka.ms/installJupyterForVSCode'>こちら</a>をクリックしてください。"
     ]
    }
   ],
   "source": [
    "df.head()"
   ]
  },
  {
   "cell_type": "markdown",
   "id": "878e37c2-bae0-409f-b73e-fd724c281cf3",
   "metadata": {},
   "source": [
    "### 列の追加2\n",
    "assign と lambda を使っても新たな列を作成できます\n",
    "lambdaは無名関数と言ってassignや後述のmap、applyといっしょに一時的な処理を書くときに使います"
   ]
  },
  {
   "cell_type": "code",
   "execution_count": null,
   "id": "e394bc02-b698-4976-a2e4-1d13ffbb6bef",
   "metadata": {},
   "outputs": [
    {
     "ename": "",
     "evalue": "",
     "output_type": "error",
     "traceback": [
      "\u001b[1;31mJupyter を起動できません。Jupyter の検索中にエラーが発生しました: 実行中のセルには notebook および jupyter パッケージが必要です。\n",
      "\u001b[1;31m次のコマンドを実行して、'jupyter および notebook' を Python 環境にインストールします。\n",
      "\u001b[1;31mコマンド: 'python -m pip install jupyter notebook -U\n",
      "\u001b[1;31mor\n",
      "\u001b[1;31mconda install jupyter notebook -U'\n",
      "\u001b[1;31m詳細については<a href='https://aka.ms/installJupyterForVSCode'>こちら</a>をクリックしてください。"
     ]
    }
   ],
   "source": [
    "# 例えば、底辺と高さを受け取って三角形の面積を返すような関数を書くと、↓のようになります\n",
    "def get_S_triangle(a, h):\n",
    "  S = a * h / 2\n",
    "  return S\n",
    "\n",
    "\n",
    "# これをlambda　式の書き方にすると\n",
    "\n",
    "S_triangle = lambda a, h: a * h / 2\n",
    "\n",
    "# lambda式自体が関数オブジェクトになります\n"
   ]
  },
  {
   "cell_type": "code",
   "execution_count": null,
   "id": "c3d30a03-9bab-4e51-a8a2-7a2549491daf",
   "metadata": {},
   "outputs": [
    {
     "ename": "",
     "evalue": "",
     "output_type": "error",
     "traceback": [
      "\u001b[1;31mJupyter を起動できません。Jupyter の検索中にエラーが発生しました: 実行中のセルには notebook および jupyter パッケージが必要です。\n",
      "\u001b[1;31m次のコマンドを実行して、'jupyter および notebook' を Python 環境にインストールします。\n",
      "\u001b[1;31mコマンド: 'python -m pip install jupyter notebook -U\n",
      "\u001b[1;31mor\n",
      "\u001b[1;31mconda install jupyter notebook -U'\n",
      "\u001b[1;31m詳細については<a href='https://aka.ms/installJupyterForVSCode'>こちら</a>をクリックしてください。"
     ]
    }
   ],
   "source": [
    "#結果\n",
    "get_S_triangle(4,6)"
   ]
  },
  {
   "cell_type": "code",
   "execution_count": null,
   "id": "36c81e88-fcd1-4a19-99c7-1b978e3bd1a1",
   "metadata": {},
   "outputs": [
    {
     "ename": "",
     "evalue": "",
     "output_type": "error",
     "traceback": [
      "\u001b[1;31mJupyter を起動できません。Jupyter の検索中にエラーが発生しました: 実行中のセルには notebook および jupyter パッケージが必要です。\n",
      "\u001b[1;31m次のコマンドを実行して、'jupyter および notebook' を Python 環境にインストールします。\n",
      "\u001b[1;31mコマンド: 'python -m pip install jupyter notebook -U\n",
      "\u001b[1;31mor\n",
      "\u001b[1;31mconda install jupyter notebook -U'\n",
      "\u001b[1;31m詳細については<a href='https://aka.ms/installJupyterForVSCode'>こちら</a>をクリックしてください。"
     ]
    }
   ],
   "source": [
    "#結果\n",
    "S_triangle(4,6)"
   ]
  },
  {
   "cell_type": "markdown",
   "id": "107edea5-3c6d-43af-af31-2fe8fb2f9db7",
   "metadata": {},
   "source": [
    "lambdaはその場限りで使うようなときに使う！"
   ]
  },
  {
   "cell_type": "code",
   "execution_count": null,
   "id": "55d7435c-1d15-47ce-afc0-060f0c1a49e7",
   "metadata": {},
   "outputs": [
    {
     "ename": "",
     "evalue": "",
     "output_type": "error",
     "traceback": [
      "\u001b[1;31mJupyter を起動できません。Jupyter の検索中にエラーが発生しました: 実行中のセルには notebook および jupyter パッケージが必要です。\n",
      "\u001b[1;31m次のコマンドを実行して、'jupyter および notebook' を Python 環境にインストールします。\n",
      "\u001b[1;31mコマンド: 'python -m pip install jupyter notebook -U\n",
      "\u001b[1;31mor\n",
      "\u001b[1;31mconda install jupyter notebook -U'\n",
      "\u001b[1;31m詳細については<a href='https://aka.ms/installJupyterForVSCode'>こちら</a>をクリックしてください。"
     ]
    }
   ],
   "source": [
    "# assign と lambda を使っても新たな列を作成できます\n",
    "\n",
    "\n",
    "# 家族の人数を計算した列を作成\n",
    "# 一時的なデータフレームができるだけなので、元データフレームを書き換える時は代入必要\n",
    "df = df.assign(family_size=lambda x: x['SibSp'] + x['Parch'])\n",
    "df"
   ]
  },
  {
   "cell_type": "markdown",
   "id": "f54eb794-44e0-45ef-98c1-fb147c17a4ce",
   "metadata": {},
   "source": [
    "## データの結合していく"
   ]
  },
  {
   "cell_type": "code",
   "execution_count": null,
   "id": "302bfee5-05a0-4d2b-8dac-336718c026a8",
   "metadata": {},
   "outputs": [
    {
     "ename": "",
     "evalue": "",
     "output_type": "error",
     "traceback": [
      "\u001b[1;31mJupyter を起動できません。Jupyter の検索中にエラーが発生しました: 実行中のセルには notebook および jupyter パッケージが必要です。\n",
      "\u001b[1;31m次のコマンドを実行して、'jupyter および notebook' を Python 環境にインストールします。\n",
      "\u001b[1;31mコマンド: 'python -m pip install jupyter notebook -U\n",
      "\u001b[1;31mor\n",
      "\u001b[1;31mconda install jupyter notebook -U'\n",
      "\u001b[1;31m詳細については<a href='https://aka.ms/installJupyterForVSCode'>こちら</a>をクリックしてください。"
     ]
    }
   ],
   "source": [
    "df['Embarked'].unique()"
   ]
  },
  {
   "cell_type": "code",
   "execution_count": null,
   "id": "5ac1324a-3ddb-489d-a0e9-5747984f8096",
   "metadata": {},
   "outputs": [
    {
     "ename": "",
     "evalue": "",
     "output_type": "error",
     "traceback": [
      "\u001b[1;31mJupyter を起動できません。Jupyter の検索中にエラーが発生しました: 実行中のセルには notebook および jupyter パッケージが必要です。\n",
      "\u001b[1;31m次のコマンドを実行して、'jupyter および notebook' を Python 環境にインストールします。\n",
      "\u001b[1;31mコマンド: 'python -m pip install jupyter notebook -U\n",
      "\u001b[1;31mor\n",
      "\u001b[1;31mconda install jupyter notebook -U'\n",
      "\u001b[1;31m詳細については<a href='https://aka.ms/installJupyterForVSCode'>こちら</a>をクリックしてください。"
     ]
    }
   ],
   "source": [
    "# 港の名前を示したデータフレームを作成\n",
    "df_port_name = pd.DataFrame([['C', 'Cherbourg'], ['Q', 'Queenstown'], ['S', 'Southampton']])\n",
    "df_port_name.columns=['Embarked', 'Embarked_all_words']\n",
    "df_port_name"
   ]
  },
  {
   "cell_type": "code",
   "execution_count": null,
   "id": "41de15c9-431f-4238-9a98-b94457687ae9",
   "metadata": {},
   "outputs": [
    {
     "ename": "",
     "evalue": "",
     "output_type": "error",
     "traceback": [
      "\u001b[1;31mJupyter を起動できません。Jupyter の検索中にエラーが発生しました: 実行中のセルには notebook および jupyter パッケージが必要です。\n",
      "\u001b[1;31m次のコマンドを実行して、'jupyter および notebook' を Python 環境にインストールします。\n",
      "\u001b[1;31mコマンド: 'python -m pip install jupyter notebook -U\n",
      "\u001b[1;31mor\n",
      "\u001b[1;31mconda install jupyter notebook -U'\n",
      "\u001b[1;31m詳細については<a href='https://aka.ms/installJupyterForVSCode'>こちら</a>をクリックしてください。"
     ]
    }
   ],
   "source": [
    "# merge 元のデータフレームに、港の名前を示したデータフレームをマージする\n",
    "df.merge(df_port_name, how='left', on='Embarked')"
   ]
  },
  {
   "cell_type": "markdown",
   "id": "8d55368c-9f0b-44f6-b84b-f8af3a65d4d9",
   "metadata": {},
   "source": [
    "港の名前がくっついた"
   ]
  },
  {
   "cell_type": "code",
   "execution_count": null,
   "id": "11bddfbf-d3df-4633-a42f-ff0427d992ae",
   "metadata": {},
   "outputs": [
    {
     "ename": "",
     "evalue": "",
     "output_type": "error",
     "traceback": [
      "\u001b[1;31mJupyter を起動できません。Jupyter の検索中にエラーが発生しました: 実行中のセルには notebook および jupyter パッケージが必要です。\n",
      "\u001b[1;31m次のコマンドを実行して、'jupyter および notebook' を Python 環境にインストールします。\n",
      "\u001b[1;31mコマンド: 'python -m pip install jupyter notebook -U\n",
      "\u001b[1;31mor\n",
      "\u001b[1;31mconda install jupyter notebook -U'\n",
      "\u001b[1;31m詳細については<a href='https://aka.ms/installJupyterForVSCode'>こちら</a>をクリックしてください。"
     ]
    }
   ],
   "source": [
    "# mergeの他にconcatと言う関数もありますが、用途が少し違います\n",
    "# concatは、（例えばループ処理でデータフレームをたくさん作ったとき）　同じ形のデータフレームを合体させるときに使う\n",
    "# (mergeはテーブルのjoinでよく使う)\n",
    "\n",
    "df_a = pd.DataFrame([['a11', 'a12', 'a13'], ['a21', 'a22', 'a23']])\n",
    "print('df_a')\n",
    "display(df_a)\n",
    "\n",
    "df_b =pd.DataFrame([['b11', 'b12'], ['b21', 'b22'], ['b31', 'b32']])\n",
    "print('\\ndf_b')\n",
    "display(df_b)\n",
    "\n",
    "df_c =pd.DataFrame([['c11', 'c12', 'c13'], ['c21', 'c22', 'c23'], ['c31', 'c32', 'c33']])\n",
    "print('\\ndf_c')\n",
    "display(df_c)"
   ]
  },
  {
   "cell_type": "code",
   "execution_count": null,
   "id": "a868524b-2d9a-425f-a609-e53c146baa60",
   "metadata": {},
   "outputs": [
    {
     "ename": "",
     "evalue": "",
     "output_type": "error",
     "traceback": [
      "\u001b[1;31mJupyter を起動できません。Jupyter の検索中にエラーが発生しました: 実行中のセルには notebook および jupyter パッケージが必要です。\n",
      "\u001b[1;31m次のコマンドを実行して、'jupyter および notebook' を Python 環境にインストールします。\n",
      "\u001b[1;31mコマンド: 'python -m pip install jupyter notebook -U\n",
      "\u001b[1;31mor\n",
      "\u001b[1;31mconda install jupyter notebook -U'\n",
      "\u001b[1;31m詳細については<a href='https://aka.ms/installJupyterForVSCode'>こちら</a>をクリックしてください。"
     ]
    }
   ],
   "source": [
    "# 結合したいデータフレームをリストに入れる　　縦に結合される\n",
    "# ※同じ列名であれば、きれいに各列名の下に結合される 同じじゃないと、横にひっつくよ。 なにもないところはNULLになる。\n",
    "pd.concat([df_a, df_c])"
   ]
  },
  {
   "cell_type": "markdown",
   "id": "e48d16af-4c02-4068-b8c1-65e26ba315f7",
   "metadata": {},
   "source": [
    "### aplay, map"
   ]
  },
  {
   "cell_type": "markdown",
   "id": "6e59e7b0-8779-4915-abe6-d064f5b1e247",
   "metadata": {},
   "source": [
    "#### map関数\n",
    "\n",
    "pd.Seriesの全要素に関数を一発で適用させるmethod\n",
    "\n",
    "applyはpd.DataFrameに使用、mapはpd.Seriesに使用"
   ]
  },
  {
   "cell_type": "code",
   "execution_count": null,
   "id": "1b9bc0fb-8410-4fb9-a021-4acfcc466a12",
   "metadata": {},
   "outputs": [
    {
     "ename": "",
     "evalue": "",
     "output_type": "error",
     "traceback": [
      "\u001b[1;31mJupyter を起動できません。Jupyter の検索中にエラーが発生しました: 実行中のセルには notebook および jupyter パッケージが必要です。\n",
      "\u001b[1;31m次のコマンドを実行して、'jupyter および notebook' を Python 環境にインストールします。\n",
      "\u001b[1;31mコマンド: 'python -m pip install jupyter notebook -U\n",
      "\u001b[1;31mor\n",
      "\u001b[1;31mconda install jupyter notebook -U'\n",
      "\u001b[1;31m詳細については<a href='https://aka.ms/installJupyterForVSCode'>こちら</a>をクリックしてください。"
     ]
    }
   ],
   "source": [
    "# mapするための関数作成\n",
    "def gender_lab(gender:str)->int:\n",
    "  if gender == 'male':\n",
    "    res = 1\n",
    "  elif gender == 'female':\n",
    "    res = 0\n",
    "  else :\n",
    "    res = 2\n",
    "  return res"
   ]
  },
  {
   "cell_type": "code",
   "execution_count": null,
   "id": "820f7b44-08fa-4ed1-9d22-8e0ec462a4b7",
   "metadata": {},
   "outputs": [
    {
     "ename": "",
     "evalue": "",
     "output_type": "error",
     "traceback": [
      "\u001b[1;31mJupyter を起動できません。Jupyter の検索中にエラーが発生しました: 実行中のセルには notebook および jupyter パッケージが必要です。\n",
      "\u001b[1;31m次のコマンドを実行して、'jupyter および notebook' を Python 環境にインストールします。\n",
      "\u001b[1;31mコマンド: 'python -m pip install jupyter notebook -U\n",
      "\u001b[1;31mor\n",
      "\u001b[1;31mconda install jupyter notebook -U'\n",
      "\u001b[1;31m詳細については<a href='https://aka.ms/installJupyterForVSCode'>こちら</a>をクリックしてください。"
     ]
    }
   ],
   "source": [
    "gender_lab('male')"
   ]
  },
  {
   "cell_type": "code",
   "execution_count": null,
   "id": "b74b3fe2-5464-47cf-8c53-2c2739bf9db7",
   "metadata": {},
   "outputs": [
    {
     "ename": "",
     "evalue": "",
     "output_type": "error",
     "traceback": [
      "\u001b[1;31mJupyter を起動できません。Jupyter の検索中にエラーが発生しました: 実行中のセルには notebook および jupyter パッケージが必要です。\n",
      "\u001b[1;31m次のコマンドを実行して、'jupyter および notebook' を Python 環境にインストールします。\n",
      "\u001b[1;31mコマンド: 'python -m pip install jupyter notebook -U\n",
      "\u001b[1;31mor\n",
      "\u001b[1;31mconda install jupyter notebook -U'\n",
      "\u001b[1;31m詳細については<a href='https://aka.ms/installJupyterForVSCode'>こちら</a>をクリックしてください。"
     ]
    }
   ],
   "source": [
    "df['Sex']"
   ]
  },
  {
   "cell_type": "code",
   "execution_count": null,
   "id": "f0eec712-e532-480a-8395-11f57a88e1a0",
   "metadata": {},
   "outputs": [
    {
     "ename": "",
     "evalue": "",
     "output_type": "error",
     "traceback": [
      "\u001b[1;31mJupyter を起動できません。Jupyter の検索中にエラーが発生しました: 実行中のセルには notebook および jupyter パッケージが必要です。\n",
      "\u001b[1;31m次のコマンドを実行して、'jupyter および notebook' を Python 環境にインストールします。\n",
      "\u001b[1;31mコマンド: 'python -m pip install jupyter notebook -U\n",
      "\u001b[1;31mor\n",
      "\u001b[1;31mconda install jupyter notebook -U'\n",
      "\u001b[1;31m詳細については<a href='https://aka.ms/installJupyterForVSCode'>こちら</a>をクリックしてください。"
     ]
    }
   ],
   "source": [
    "df['Sex'].map(gender_lab)"
   ]
  },
  {
   "cell_type": "markdown",
   "id": "a3932658-7193-42d7-9996-2f195b0caa4e",
   "metadata": {},
   "source": [
    "#### apply関数\n",
    "関数を全ての行または列に適用する関数"
   ]
  },
  {
   "cell_type": "code",
   "execution_count": null,
   "id": "afefc35d-0c37-46c9-8fba-38d76e611de2",
   "metadata": {},
   "outputs": [
    {
     "ename": "",
     "evalue": "",
     "output_type": "error",
     "traceback": [
      "\u001b[1;31mJupyter を起動できません。Jupyter の検索中にエラーが発生しました: 実行中のセルには notebook および jupyter パッケージが必要です。\n",
      "\u001b[1;31m次のコマンドを実行して、'jupyter および notebook' を Python 環境にインストールします。\n",
      "\u001b[1;31mコマンド: 'python -m pip install jupyter notebook -U\n",
      "\u001b[1;31mor\n",
      "\u001b[1;31mconda install jupyter notebook -U'\n",
      "\u001b[1;31m詳細については<a href='https://aka.ms/installJupyterForVSCode'>こちら</a>をクリックしてください。"
     ]
    }
   ],
   "source": [
    "df[['SibSp', 'Parch']]"
   ]
  },
  {
   "cell_type": "code",
   "execution_count": null,
   "id": "66fb4d42-92ac-4f42-b7ce-f796b622c3ba",
   "metadata": {},
   "outputs": [
    {
     "ename": "",
     "evalue": "",
     "output_type": "error",
     "traceback": [
      "\u001b[1;31mJupyter を起動できません。Jupyter の検索中にエラーが発生しました: 実行中のセルには notebook および jupyter パッケージが必要です。\n",
      "\u001b[1;31m次のコマンドを実行して、'jupyter および notebook' を Python 環境にインストールします。\n",
      "\u001b[1;31mコマンド: 'python -m pip install jupyter notebook -U\n",
      "\u001b[1;31mor\n",
      "\u001b[1;31mconda install jupyter notebook -U'\n",
      "\u001b[1;31m詳細については<a href='https://aka.ms/installJupyterForVSCode'>こちら</a>をクリックしてください。"
     ]
    }
   ],
   "source": [
    "df[['SibSp', 'Parch']].apply(sum, axis=0)"
   ]
  },
  {
   "cell_type": "code",
   "execution_count": null,
   "id": "281efd48-d3e2-4bd7-9253-7731fb312336",
   "metadata": {},
   "outputs": [
    {
     "ename": "",
     "evalue": "",
     "output_type": "error",
     "traceback": [
      "\u001b[1;31mJupyter を起動できません。Jupyter の検索中にエラーが発生しました: 実行中のセルには notebook および jupyter パッケージが必要です。\n",
      "\u001b[1;31m次のコマンドを実行して、'jupyter および notebook' を Python 環境にインストールします。\n",
      "\u001b[1;31mコマンド: 'python -m pip install jupyter notebook -U\n",
      "\u001b[1;31mor\n",
      "\u001b[1;31mconda install jupyter notebook -U'\n",
      "\u001b[1;31m詳細については<a href='https://aka.ms/installJupyterForVSCode'>こちら</a>をクリックしてください。"
     ]
    }
   ],
   "source": [
    "df[['SibSp', 'Parch']].apply(sum, axis=1)"
   ]
  },
  {
   "cell_type": "markdown",
   "id": "dafd4c4f-1f80-4ad2-aa8a-bb307c520289",
   "metadata": {},
   "source": [
    "# 練習問題"
   ]
  },
  {
   "cell_type": "markdown",
   "id": "f6c46e9f-93a4-4fbb-a44a-645eb178c187",
   "metadata": {},
   "source": [
    "## 1.性別を数値に変換した列を作ってください"
   ]
  },
  {
   "cell_type": "code",
   "execution_count": null,
   "id": "650c1c19-6ab6-4722-a740-1d2ec6186b6d",
   "metadata": {},
   "outputs": [
    {
     "ename": "",
     "evalue": "",
     "output_type": "error",
     "traceback": [
      "\u001b[1;31mJupyter を起動できません。Jupyter の検索中にエラーが発生しました: 実行中のセルには notebook および jupyter パッケージが必要です。\n",
      "\u001b[1;31m次のコマンドを実行して、'jupyter および notebook' を Python 環境にインストールします。\n",
      "\u001b[1;31mコマンド: 'python -m pip install jupyter notebook -U\n",
      "\u001b[1;31mor\n",
      "\u001b[1;31mconda install jupyter notebook -U'\n",
      "\u001b[1;31m詳細については<a href='https://aka.ms/installJupyterForVSCode'>こちら</a>をクリックしてください。"
     ]
    }
   ],
   "source": [
    "df.head()"
   ]
  },
  {
   "cell_type": "code",
   "execution_count": null,
   "id": "86b961a1-4b45-4b28-85cc-a7ebb28a7e0d",
   "metadata": {},
   "outputs": [
    {
     "ename": "",
     "evalue": "",
     "output_type": "error",
     "traceback": [
      "\u001b[1;31mJupyter を起動できません。Jupyter の検索中にエラーが発生しました: 実行中のセルには notebook および jupyter パッケージが必要です。\n",
      "\u001b[1;31m次のコマンドを実行して、'jupyter および notebook' を Python 環境にインストールします。\n",
      "\u001b[1;31mコマンド: 'python -m pip install jupyter notebook -U\n",
      "\u001b[1;31mor\n",
      "\u001b[1;31mconda install jupyter notebook -U'\n",
      "\u001b[1;31m詳細については<a href='https://aka.ms/installJupyterForVSCode'>こちら</a>をクリックしてください。"
     ]
    }
   ],
   "source": [
    "df['fm']=0\n",
    "df.loc[df['Sex']=='female','fm']=1"
   ]
  },
  {
   "cell_type": "code",
   "execution_count": null,
   "id": "eada0bfa-21b1-4e6f-8d49-808cfd6cdcea",
   "metadata": {},
   "outputs": [
    {
     "ename": "",
     "evalue": "",
     "output_type": "error",
     "traceback": [
      "\u001b[1;31mJupyter を起動できません。Jupyter の検索中にエラーが発生しました: 実行中のセルには notebook および jupyter パッケージが必要です。\n",
      "\u001b[1;31m次のコマンドを実行して、'jupyter および notebook' を Python 環境にインストールします。\n",
      "\u001b[1;31mコマンド: 'python -m pip install jupyter notebook -U\n",
      "\u001b[1;31mor\n",
      "\u001b[1;31mconda install jupyter notebook -U'\n",
      "\u001b[1;31m詳細については<a href='https://aka.ms/installJupyterForVSCode'>こちら</a>をクリックしてください。"
     ]
    }
   ],
   "source": [
    "df.head()"
   ]
  },
  {
   "cell_type": "markdown",
   "id": "6462c077-7e74-4db1-8746-d2503b3985cc",
   "metadata": {},
   "source": [
    "## 2. 年齢の欠損値を平均値で補完した新たな列\"Age_filled\"を作ってください"
   ]
  },
  {
   "cell_type": "code",
   "execution_count": null,
   "id": "6e6c80a4-19de-4362-b8e7-d250a7e70e42",
   "metadata": {},
   "outputs": [
    {
     "ename": "",
     "evalue": "",
     "output_type": "error",
     "traceback": [
      "\u001b[1;31mJupyter を起動できません。Jupyter の検索中にエラーが発生しました: 実行中のセルには notebook および jupyter パッケージが必要です。\n",
      "\u001b[1;31m次のコマンドを実行して、'jupyter および notebook' を Python 環境にインストールします。\n",
      "\u001b[1;31mコマンド: 'python -m pip install jupyter notebook -U\n",
      "\u001b[1;31mor\n",
      "\u001b[1;31mconda install jupyter notebook -U'\n",
      "\u001b[1;31m詳細については<a href='https://aka.ms/installJupyterForVSCode'>こちら</a>をクリックしてください。"
     ]
    }
   ],
   "source": [
    "df[\"Age\"].mean()"
   ]
  },
  {
   "cell_type": "code",
   "execution_count": null,
   "id": "02ef5123-63cd-41ad-90b5-b5a9ed7bab25",
   "metadata": {},
   "outputs": [
    {
     "ename": "",
     "evalue": "",
     "output_type": "error",
     "traceback": [
      "\u001b[1;31mJupyter を起動できません。Jupyter の検索中にエラーが発生しました: 実行中のセルには notebook および jupyter パッケージが必要です。\n",
      "\u001b[1;31m次のコマンドを実行して、'jupyter および notebook' を Python 環境にインストールします。\n",
      "\u001b[1;31mコマンド: 'python -m pip install jupyter notebook -U\n",
      "\u001b[1;31mor\n",
      "\u001b[1;31mconda install jupyter notebook -U'\n",
      "\u001b[1;31m詳細については<a href='https://aka.ms/installJupyterForVSCode'>こちら</a>をクリックしてください。"
     ]
    }
   ],
   "source": [
    "df[\"Age\"].isnull()"
   ]
  },
  {
   "cell_type": "code",
   "execution_count": null,
   "id": "2cd81280-0b37-476f-adc0-1321134d6fe2",
   "metadata": {},
   "outputs": [
    {
     "ename": "",
     "evalue": "",
     "output_type": "error",
     "traceback": [
      "\u001b[1;31mJupyter を起動できません。Jupyter の検索中にエラーが発生しました: 実行中のセルには notebook および jupyter パッケージが必要です。\n",
      "\u001b[1;31m次のコマンドを実行して、'jupyter および notebook' を Python 環境にインストールします。\n",
      "\u001b[1;31mコマンド: 'python -m pip install jupyter notebook -U\n",
      "\u001b[1;31mor\n",
      "\u001b[1;31mconda install jupyter notebook -U'\n",
      "\u001b[1;31m詳細については<a href='https://aka.ms/installJupyterForVSCode'>こちら</a>をクリックしてください。"
     ]
    }
   ],
   "source": [
    "df[\"Age_filled\"] = df[\"Age\"].copy()"
   ]
  },
  {
   "cell_type": "code",
   "execution_count": null,
   "id": "140be278-48e1-405f-a9ed-b328d0544fac",
   "metadata": {},
   "outputs": [
    {
     "ename": "",
     "evalue": "",
     "output_type": "error",
     "traceback": [
      "\u001b[1;31mJupyter を起動できません。Jupyter の検索中にエラーが発生しました: 実行中のセルには notebook および jupyter パッケージが必要です。\n",
      "\u001b[1;31m次のコマンドを実行して、'jupyter および notebook' を Python 環境にインストールします。\n",
      "\u001b[1;31mコマンド: 'python -m pip install jupyter notebook -U\n",
      "\u001b[1;31mor\n",
      "\u001b[1;31mconda install jupyter notebook -U'\n",
      "\u001b[1;31m詳細については<a href='https://aka.ms/installJupyterForVSCode'>こちら</a>をクリックしてください。"
     ]
    }
   ],
   "source": [
    "df[\"Age_filled\"]"
   ]
  },
  {
   "cell_type": "code",
   "execution_count": null,
   "id": "76d68555-3bfb-464a-96d6-0af331507e97",
   "metadata": {},
   "outputs": [
    {
     "ename": "",
     "evalue": "",
     "output_type": "error",
     "traceback": [
      "\u001b[1;31mJupyter を起動できません。Jupyter の検索中にエラーが発生しました: 実行中のセルには notebook および jupyter パッケージが必要です。\n",
      "\u001b[1;31m次のコマンドを実行して、'jupyter および notebook' を Python 環境にインストールします。\n",
      "\u001b[1;31mコマンド: 'python -m pip install jupyter notebook -U\n",
      "\u001b[1;31mor\n",
      "\u001b[1;31mconda install jupyter notebook -U'\n",
      "\u001b[1;31m詳細については<a href='https://aka.ms/installJupyterForVSCode'>こちら</a>をクリックしてください。"
     ]
    }
   ],
   "source": [
    "df.loc[df[\"Age_filled\"].isnull(),\"Age_filled\"] = df[\"Age\"].mean()"
   ]
  },
  {
   "cell_type": "code",
   "execution_count": null,
   "id": "6c46bd59-eb77-4261-bb19-3205f9f0be65",
   "metadata": {},
   "outputs": [
    {
     "ename": "",
     "evalue": "",
     "output_type": "error",
     "traceback": [
      "\u001b[1;31mJupyter を起動できません。Jupyter の検索中にエラーが発生しました: 実行中のセルには notebook および jupyter パッケージが必要です。\n",
      "\u001b[1;31m次のコマンドを実行して、'jupyter および notebook' を Python 環境にインストールします。\n",
      "\u001b[1;31mコマンド: 'python -m pip install jupyter notebook -U\n",
      "\u001b[1;31mor\n",
      "\u001b[1;31mconda install jupyter notebook -U'\n",
      "\u001b[1;31m詳細については<a href='https://aka.ms/installJupyterForVSCode'>こちら</a>をクリックしてください。"
     ]
    }
   ],
   "source": [
    "df[\"Age_filled\"].isnull().sum()"
   ]
  },
  {
   "cell_type": "markdown",
   "id": "6e03e34d-8958-4ae0-b910-6d57184ed99d",
   "metadata": {},
   "source": [
    "## 3. 2で作ったAge_filledを四分位で分けたグループを作り、Survivedとのクロス集計表を作ってください"
   ]
  },
  {
   "cell_type": "code",
   "execution_count": null,
   "id": "0e8382a2-d3d7-4384-ab2e-d55266b4297d",
   "metadata": {},
   "outputs": [
    {
     "ename": "",
     "evalue": "",
     "output_type": "error",
     "traceback": [
      "\u001b[1;31mJupyter を起動できません。Jupyter の検索中にエラーが発生しました: 実行中のセルには notebook および jupyter パッケージが必要です。\n",
      "\u001b[1;31m次のコマンドを実行して、'jupyter および notebook' を Python 環境にインストールします。\n",
      "\u001b[1;31mコマンド: 'python -m pip install jupyter notebook -U\n",
      "\u001b[1;31mor\n",
      "\u001b[1;31mconda install jupyter notebook -U'\n",
      "\u001b[1;31m詳細については<a href='https://aka.ms/installJupyterForVSCode'>こちら</a>をクリックしてください。"
     ]
    }
   ],
   "source": [
    "df.groupby(\"Survived\")[\"Age_filled\"].quantile(0.25)"
   ]
  },
  {
   "cell_type": "code",
   "execution_count": null,
   "id": "ba838db9-5d0e-4b22-829f-164c540c5916",
   "metadata": {},
   "outputs": [
    {
     "ename": "",
     "evalue": "",
     "output_type": "error",
     "traceback": [
      "\u001b[1;31mJupyter を起動できません。Jupyter の検索中にエラーが発生しました: 実行中のセルには notebook および jupyter パッケージが必要です。\n",
      "\u001b[1;31m次のコマンドを実行して、'jupyter および notebook' を Python 環境にインストールします。\n",
      "\u001b[1;31mコマンド: 'python -m pip install jupyter notebook -U\n",
      "\u001b[1;31mor\n",
      "\u001b[1;31mconda install jupyter notebook -U'\n",
      "\u001b[1;31m詳細については<a href='https://aka.ms/installJupyterForVSCode'>こちら</a>をクリックしてください。"
     ]
    }
   ],
   "source": [
    "df[\"Age_filled\"].quantile(0.25)]"
   ]
  },
  {
   "cell_type": "code",
   "execution_count": null,
   "id": "4a6e6ee2-7213-4155-ba2f-70d15c9aab55",
   "metadata": {},
   "outputs": [
    {
     "ename": "",
     "evalue": "",
     "output_type": "error",
     "traceback": [
      "\u001b[1;31mJupyter を起動できません。Jupyter の検索中にエラーが発生しました: 実行中のセルには notebook および jupyter パッケージが必要です。\n",
      "\u001b[1;31m次のコマンドを実行して、'jupyter および notebook' を Python 環境にインストールします。\n",
      "\u001b[1;31mコマンド: 'python -m pip install jupyter notebook -U\n",
      "\u001b[1;31mor\n",
      "\u001b[1;31mconda install jupyter notebook -U'\n",
      "\u001b[1;31m詳細については<a href='https://aka.ms/installJupyterForVSCode'>こちら</a>をクリックしてください。"
     ]
    }
   ],
   "source": [
    "df[\"Age_filled\"].quantile(0.5)"
   ]
  },
  {
   "cell_type": "code",
   "execution_count": null,
   "id": "57c7e4fe-963f-4092-9aa4-019860bb3aea",
   "metadata": {},
   "outputs": [
    {
     "ename": "",
     "evalue": "",
     "output_type": "error",
     "traceback": [
      "\u001b[1;31mJupyter を起動できません。Jupyter の検索中にエラーが発生しました: 実行中のセルには notebook および jupyter パッケージが必要です。\n",
      "\u001b[1;31m次のコマンドを実行して、'jupyter および notebook' を Python 環境にインストールします。\n",
      "\u001b[1;31mコマンド: 'python -m pip install jupyter notebook -U\n",
      "\u001b[1;31mor\n",
      "\u001b[1;31mconda install jupyter notebook -U'\n",
      "\u001b[1;31m詳細については<a href='https://aka.ms/installJupyterForVSCode'>こちら</a>をクリックしてください。"
     ]
    }
   ],
   "source": [
    "df[\"Age_filled\"].quantile(0.75)"
   ]
  },
  {
   "cell_type": "code",
   "execution_count": null,
   "id": "a5363ded-246d-4558-9288-4998971109fd",
   "metadata": {},
   "outputs": [
    {
     "ename": "",
     "evalue": "",
     "output_type": "error",
     "traceback": [
      "\u001b[1;31mJupyter を起動できません。Jupyter の検索中にエラーが発生しました: 実行中のセルには notebook および jupyter パッケージが必要です。\n",
      "\u001b[1;31m次のコマンドを実行して、'jupyter および notebook' を Python 環境にインストールします。\n",
      "\u001b[1;31mコマンド: 'python -m pip install jupyter notebook -U\n",
      "\u001b[1;31mor\n",
      "\u001b[1;31mconda install jupyter notebook -U'\n",
      "\u001b[1;31m詳細については<a href='https://aka.ms/installJupyterForVSCode'>こちら</a>をクリックしてください。"
     ]
    }
   ],
   "source": [
    "df.loc[df[\"Age_filled\"]<= df[\"Age_filled\"].quantile(0.25),[\"Name\"]]"
   ]
  },
  {
   "cell_type": "code",
   "execution_count": null,
   "id": "90dff3ad-830c-4aa1-8a48-e75a602cec51",
   "metadata": {},
   "outputs": [
    {
     "ename": "",
     "evalue": "",
     "output_type": "error",
     "traceback": [
      "\u001b[1;31mJupyter を起動できません。Jupyter の検索中にエラーが発生しました: 実行中のセルには notebook および jupyter パッケージが必要です。\n",
      "\u001b[1;31m次のコマンドを実行して、'jupyter および notebook' を Python 環境にインストールします。\n",
      "\u001b[1;31mコマンド: 'python -m pip install jupyter notebook -U\n",
      "\u001b[1;31mor\n",
      "\u001b[1;31mconda install jupyter notebook -U'\n",
      "\u001b[1;31m詳細については<a href='https://aka.ms/installJupyterForVSCode'>こちら</a>をクリックしてください。"
     ]
    }
   ],
   "source": [
    "groupA = df.loc[df[\"Age_filled\"] <= df[\"Age_filled\"].quantile(0.25),[\"Name\"]]"
   ]
  },
  {
   "cell_type": "code",
   "execution_count": null,
   "id": "c6824fb0-ff26-404b-8151-1d73ef2165ee",
   "metadata": {},
   "outputs": [
    {
     "ename": "",
     "evalue": "",
     "output_type": "error",
     "traceback": [
      "\u001b[1;31mJupyter を起動できません。Jupyter の検索中にエラーが発生しました: 実行中のセルには notebook および jupyter パッケージが必要です。\n",
      "\u001b[1;31m次のコマンドを実行して、'jupyter および notebook' を Python 環境にインストールします。\n",
      "\u001b[1;31mコマンド: 'python -m pip install jupyter notebook -U\n",
      "\u001b[1;31mor\n",
      "\u001b[1;31mconda install jupyter notebook -U'\n",
      "\u001b[1;31m詳細については<a href='https://aka.ms/installJupyterForVSCode'>こちら</a>をクリックしてください。"
     ]
    }
   ],
   "source": [
    "groupB = df.loc[((df[\"Age_filled\"].quantile(0.25) < df[\"Age_filled\"]) & (df[\"Age_filled\"] <= df[\"Age_filled\"].quantile(0.5))),[\"Name\"]]"
   ]
  },
  {
   "cell_type": "code",
   "execution_count": null,
   "id": "2b21c881-2f79-4775-bbe7-f578355675c8",
   "metadata": {},
   "outputs": [
    {
     "ename": "",
     "evalue": "",
     "output_type": "error",
     "traceback": [
      "\u001b[1;31mJupyter を起動できません。Jupyter の検索中にエラーが発生しました: 実行中のセルには notebook および jupyter パッケージが必要です。\n",
      "\u001b[1;31m次のコマンドを実行して、'jupyter および notebook' を Python 環境にインストールします。\n",
      "\u001b[1;31mコマンド: 'python -m pip install jupyter notebook -U\n",
      "\u001b[1;31mor\n",
      "\u001b[1;31mconda install jupyter notebook -U'\n",
      "\u001b[1;31m詳細については<a href='https://aka.ms/installJupyterForVSCode'>こちら</a>をクリックしてください。"
     ]
    }
   ],
   "source": [
    "groupC = df.loc[((df[\"Age_filled\"].quantile(0.5) < df[\"Age_filled\"]) & (df[\"Age_filled\"] <= df[\"Age_filled\"].quantile(0.75))),[\"Name\"]]"
   ]
  },
  {
   "cell_type": "code",
   "execution_count": null,
   "id": "e38aef9f-fd3e-4c1a-9d85-dac224e46337",
   "metadata": {},
   "outputs": [
    {
     "ename": "",
     "evalue": "",
     "output_type": "error",
     "traceback": [
      "\u001b[1;31mJupyter を起動できません。Jupyter の検索中にエラーが発生しました: 実行中のセルには notebook および jupyter パッケージが必要です。\n",
      "\u001b[1;31m次のコマンドを実行して、'jupyter および notebook' を Python 環境にインストールします。\n",
      "\u001b[1;31mコマンド: 'python -m pip install jupyter notebook -U\n",
      "\u001b[1;31mor\n",
      "\u001b[1;31mconda install jupyter notebook -U'\n",
      "\u001b[1;31m詳細については<a href='https://aka.ms/installJupyterForVSCode'>こちら</a>をクリックしてください。"
     ]
    }
   ],
   "source": [
    "groupD = df.loc[df[\"Age_filled\"].quantile(0.75) < df[\"Age_filled\"] ,[\"Name\"]]"
   ]
  },
  {
   "cell_type": "code",
   "execution_count": null,
   "id": "bb0448e0-6bce-4a03-bf17-9dbe8b69bb27",
   "metadata": {},
   "outputs": [
    {
     "ename": "",
     "evalue": "",
     "output_type": "error",
     "traceback": [
      "\u001b[1;31mJupyter を起動できません。Jupyter の検索中にエラーが発生しました: 実行中のセルには notebook および jupyter パッケージが必要です。\n",
      "\u001b[1;31m次のコマンドを実行して、'jupyter および notebook' を Python 環境にインストールします。\n",
      "\u001b[1;31mコマンド: 'python -m pip install jupyter notebook -U\n",
      "\u001b[1;31mor\n",
      "\u001b[1;31mconda install jupyter notebook -U'\n",
      "\u001b[1;31m詳細については<a href='https://aka.ms/installJupyterForVSCode'>こちら</a>をクリックしてください。"
     ]
    }
   ],
   "source": [
    "df[\"Age_quantile\"] = 0"
   ]
  },
  {
   "cell_type": "code",
   "execution_count": null,
   "id": "84c461fc-59ba-4d74-9ad1-845990c10be2",
   "metadata": {},
   "outputs": [
    {
     "ename": "",
     "evalue": "",
     "output_type": "error",
     "traceback": [
      "\u001b[1;31mJupyter を起動できません。Jupyter の検索中にエラーが発生しました: 実行中のセルには notebook および jupyter パッケージが必要です。\n",
      "\u001b[1;31m次のコマンドを実行して、'jupyter および notebook' を Python 環境にインストールします。\n",
      "\u001b[1;31mコマンド: 'python -m pip install jupyter notebook -U\n",
      "\u001b[1;31mor\n",
      "\u001b[1;31mconda install jupyter notebook -U'\n",
      "\u001b[1;31m詳細については<a href='https://aka.ms/installJupyterForVSCode'>こちら</a>をクリックしてください。"
     ]
    }
   ],
   "source": [
    "df.loc[df[\"Age_filled\"] <= df[\"Age_filled\"].quantile(0.25),[\"Age_quantile\"]] = 0"
   ]
  },
  {
   "cell_type": "code",
   "execution_count": null,
   "id": "b6b6aed4-114d-4c0c-b851-0e24175a050e",
   "metadata": {},
   "outputs": [
    {
     "ename": "",
     "evalue": "",
     "output_type": "error",
     "traceback": [
      "\u001b[1;31mJupyter を起動できません。Jupyter の検索中にエラーが発生しました: 実行中のセルには notebook および jupyter パッケージが必要です。\n",
      "\u001b[1;31m次のコマンドを実行して、'jupyter および notebook' を Python 環境にインストールします。\n",
      "\u001b[1;31mコマンド: 'python -m pip install jupyter notebook -U\n",
      "\u001b[1;31mor\n",
      "\u001b[1;31mconda install jupyter notebook -U'\n",
      "\u001b[1;31m詳細については<a href='https://aka.ms/installJupyterForVSCode'>こちら</a>をクリックしてください。"
     ]
    }
   ],
   "source": [
    "df.loc[((df[\"Age_filled\"].quantile(0.25) < df[\"Age_filled\"]) & (df[\"Age_filled\"] <= df[\"Age_filled\"].quantile(0.5))),[\"Age_quantile\"]] = 1"
   ]
  },
  {
   "cell_type": "code",
   "execution_count": null,
   "id": "ef1088e7-d3d3-4fa1-838c-0854e111cf4f",
   "metadata": {},
   "outputs": [
    {
     "ename": "",
     "evalue": "",
     "output_type": "error",
     "traceback": [
      "\u001b[1;31mJupyter を起動できません。Jupyter の検索中にエラーが発生しました: 実行中のセルには notebook および jupyter パッケージが必要です。\n",
      "\u001b[1;31m次のコマンドを実行して、'jupyter および notebook' を Python 環境にインストールします。\n",
      "\u001b[1;31mコマンド: 'python -m pip install jupyter notebook -U\n",
      "\u001b[1;31mor\n",
      "\u001b[1;31mconda install jupyter notebook -U'\n",
      "\u001b[1;31m詳細については<a href='https://aka.ms/installJupyterForVSCode'>こちら</a>をクリックしてください。"
     ]
    }
   ],
   "source": [
    "df.loc[((df[\"Age_filled\"].quantile(0.5) < df[\"Age_filled\"]) & (df[\"Age_filled\"] <= df[\"Age_filled\"].quantile(0.75))),[\"Age_quantile\"]] = 2"
   ]
  },
  {
   "cell_type": "code",
   "execution_count": null,
   "id": "ffa560a8-51a9-49b1-b52c-9b2a09c7cd26",
   "metadata": {},
   "outputs": [
    {
     "ename": "",
     "evalue": "",
     "output_type": "error",
     "traceback": [
      "\u001b[1;31mJupyter を起動できません。Jupyter の検索中にエラーが発生しました: 実行中のセルには notebook および jupyter パッケージが必要です。\n",
      "\u001b[1;31m次のコマンドを実行して、'jupyter および notebook' を Python 環境にインストールします。\n",
      "\u001b[1;31mコマンド: 'python -m pip install jupyter notebook -U\n",
      "\u001b[1;31mor\n",
      "\u001b[1;31mconda install jupyter notebook -U'\n",
      "\u001b[1;31m詳細については<a href='https://aka.ms/installJupyterForVSCode'>こちら</a>をクリックしてください。"
     ]
    }
   ],
   "source": [
    "df.loc[df[\"Age_filled\"].quantile(0.75),[\"Age_quantile\"]] = 3"
   ]
  },
  {
   "cell_type": "code",
   "execution_count": null,
   "id": "29925fd7-c4ff-4e28-be46-2917b5714a28",
   "metadata": {},
   "outputs": [
    {
     "ename": "",
     "evalue": "",
     "output_type": "error",
     "traceback": [
      "\u001b[1;31mJupyter を起動できません。Jupyter の検索中にエラーが発生しました: 実行中のセルには notebook および jupyter パッケージが必要です。\n",
      "\u001b[1;31m次のコマンドを実行して、'jupyter および notebook' を Python 環境にインストールします。\n",
      "\u001b[1;31mコマンド: 'python -m pip install jupyter notebook -U\n",
      "\u001b[1;31mor\n",
      "\u001b[1;31mconda install jupyter notebook -U'\n",
      "\u001b[1;31m詳細については<a href='https://aka.ms/installJupyterForVSCode'>こちら</a>をクリックしてください。"
     ]
    }
   ],
   "source": [
    "df[\"Age_quantile\"]"
   ]
  },
  {
   "cell_type": "code",
   "execution_count": null,
   "id": "5d7b5c24-ee7e-4db8-9663-955ca9e16953",
   "metadata": {},
   "outputs": [
    {
     "ename": "",
     "evalue": "",
     "output_type": "error",
     "traceback": [
      "\u001b[1;31mJupyter を起動できません。Jupyter の検索中にエラーが発生しました: 実行中のセルには notebook および jupyter パッケージが必要です。\n",
      "\u001b[1;31m次のコマンドを実行して、'jupyter および notebook' を Python 環境にインストールします。\n",
      "\u001b[1;31mコマンド: 'python -m pip install jupyter notebook -U\n",
      "\u001b[1;31mor\n",
      "\u001b[1;31mconda install jupyter notebook -U'\n",
      "\u001b[1;31m詳細については<a href='https://aka.ms/installJupyterForVSCode'>こちら</a>をクリックしてください。"
     ]
    }
   ],
   "source": [
    "df.pivot_table(index='Survived', columns=\"Age_quantile\", values='PassengerId', aggfunc='count')"
   ]
  },
  {
   "cell_type": "code",
   "execution_count": null,
   "id": "7914a520-29e6-4378-91c4-224cdee43bbd",
   "metadata": {},
   "outputs": [
    {
     "ename": "",
     "evalue": "",
     "output_type": "error",
     "traceback": [
      "\u001b[1;31mJupyter を起動できません。Jupyter の検索中にエラーが発生しました: 実行中のセルには notebook および jupyter パッケージが必要です。\n",
      "\u001b[1;31m次のコマンドを実行して、'jupyter および notebook' を Python 環境にインストールします。\n",
      "\u001b[1;31mコマンド: 'python -m pip install jupyter notebook -U\n",
      "\u001b[1;31mor\n",
      "\u001b[1;31mconda install jupyter notebook -U'\n",
      "\u001b[1;31m詳細については<a href='https://aka.ms/installJupyterForVSCode'>こちら</a>をクリックしてください。"
     ]
    }
   ],
   "source": []
  }
 ],
 "metadata": {
  "kernelspec": {
   "display_name": "Python 3 (ipykernel)",
   "language": "python",
   "name": "python3"
  },
  "language_info": {
   "codemirror_mode": {
    "name": "ipython",
    "version": 3
   },
   "file_extension": ".py",
   "mimetype": "text/x-python",
   "name": "python",
   "nbconvert_exporter": "python",
   "pygments_lexer": "ipython3",
   "version": "3.11.1"
  }
 },
 "nbformat": 4,
 "nbformat_minor": 5
}
